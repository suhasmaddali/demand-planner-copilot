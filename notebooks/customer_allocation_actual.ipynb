{
 "cells": [
  {
   "cell_type": "code",
   "execution_count": 1,
   "metadata": {},
   "outputs": [],
   "source": [
    "import pandas as pd\n",
    "import os"
   ]
  },
  {
   "cell_type": "code",
   "execution_count": 2,
   "metadata": {},
   "outputs": [],
   "source": [
    "df = pd.read_excel(\"../../customer_allocation_data/CustAllocDownload202406171900.xlsx\")"
   ]
  },
  {
   "cell_type": "code",
   "execution_count": 3,
   "metadata": {},
   "outputs": [
    {
     "data": {
      "text/html": [
       "<div>\n",
       "<style scoped>\n",
       "    .dataframe tbody tr th:only-of-type {\n",
       "        vertical-align: middle;\n",
       "    }\n",
       "\n",
       "    .dataframe tbody tr th {\n",
       "        vertical-align: top;\n",
       "    }\n",
       "\n",
       "    .dataframe thead th {\n",
       "        text-align: right;\n",
       "    }\n",
       "</style>\n",
       "<table border=\"1\" class=\"dataframe\">\n",
       "  <thead>\n",
       "    <tr style=\"text-align: right;\">\n",
       "      <th></th>\n",
       "      <th>Demand Type</th>\n",
       "      <th>Ord Type</th>\n",
       "      <th>SKU</th>\n",
       "      <th>Part #</th>\n",
       "      <th>Adaptor</th>\n",
       "      <th>Customer #</th>\n",
       "      <th>Cust Name</th>\n",
       "      <th>Region</th>\n",
       "      <th>SalesPriority</th>\n",
       "      <th>End Customer</th>\n",
       "      <th>...</th>\n",
       "      <th>Higher Level Item</th>\n",
       "      <th>Del #</th>\n",
       "      <th>Del Date</th>\n",
       "      <th>Rejection</th>\n",
       "      <th>Allocation Qty</th>\n",
       "      <th>Allocation Date</th>\n",
       "      <th>Planning Group</th>\n",
       "      <th>Alt Allocation</th>\n",
       "      <th>Product End Customer</th>\n",
       "      <th>Product End Customer Name</th>\n",
       "    </tr>\n",
       "  </thead>\n",
       "  <tbody>\n",
       "    <tr>\n",
       "      <th>0</th>\n",
       "      <td>Allocation</td>\n",
       "      <td>NaN</td>\n",
       "      <td>NaN</td>\n",
       "      <td>NaN</td>\n",
       "      <td>NaN</td>\n",
       "      <td>NaN</td>\n",
       "      <td>NaN</td>\n",
       "      <td>NaN</td>\n",
       "      <td>NaN</td>\n",
       "      <td>NaN</td>\n",
       "      <td>...</td>\n",
       "      <td>NaN</td>\n",
       "      <td>NaN</td>\n",
       "      <td>NaT</td>\n",
       "      <td>NaN</td>\n",
       "      <td>0.0</td>\n",
       "      <td>2024-05-05</td>\n",
       "      <td>NaN</td>\n",
       "      <td>4.0</td>\n",
       "      <td>NaN</td>\n",
       "      <td>NaN</td>\n",
       "    </tr>\n",
       "    <tr>\n",
       "      <th>1</th>\n",
       "      <td>Allocation</td>\n",
       "      <td>NaN</td>\n",
       "      <td>NaN</td>\n",
       "      <td>NaN</td>\n",
       "      <td>NaN</td>\n",
       "      <td>NaN</td>\n",
       "      <td>NaN</td>\n",
       "      <td>NaN</td>\n",
       "      <td>NaN</td>\n",
       "      <td>NaN</td>\n",
       "      <td>...</td>\n",
       "      <td>NaN</td>\n",
       "      <td>NaN</td>\n",
       "      <td>NaT</td>\n",
       "      <td>NaN</td>\n",
       "      <td>0.0</td>\n",
       "      <td>2024-06-23</td>\n",
       "      <td>NaN</td>\n",
       "      <td>48.0</td>\n",
       "      <td>NaN</td>\n",
       "      <td>NaN</td>\n",
       "    </tr>\n",
       "    <tr>\n",
       "      <th>2</th>\n",
       "      <td>Allocation</td>\n",
       "      <td>NaN</td>\n",
       "      <td>NaN</td>\n",
       "      <td>NaN</td>\n",
       "      <td>NaN</td>\n",
       "      <td>NaN</td>\n",
       "      <td>NaN</td>\n",
       "      <td>NaN</td>\n",
       "      <td>NaN</td>\n",
       "      <td>NaN</td>\n",
       "      <td>...</td>\n",
       "      <td>NaN</td>\n",
       "      <td>NaN</td>\n",
       "      <td>NaT</td>\n",
       "      <td>NaN</td>\n",
       "      <td>0.0</td>\n",
       "      <td>2024-05-12</td>\n",
       "      <td>NaN</td>\n",
       "      <td>2163.0</td>\n",
       "      <td>NaN</td>\n",
       "      <td>NaN</td>\n",
       "    </tr>\n",
       "    <tr>\n",
       "      <th>3</th>\n",
       "      <td>Allocation</td>\n",
       "      <td>NaN</td>\n",
       "      <td>NaN</td>\n",
       "      <td>NaN</td>\n",
       "      <td>NaN</td>\n",
       "      <td>NaN</td>\n",
       "      <td>NaN</td>\n",
       "      <td>NaN</td>\n",
       "      <td>NaN</td>\n",
       "      <td>NaN</td>\n",
       "      <td>...</td>\n",
       "      <td>NaN</td>\n",
       "      <td>NaN</td>\n",
       "      <td>NaT</td>\n",
       "      <td>NaN</td>\n",
       "      <td>0.0</td>\n",
       "      <td>2024-06-23</td>\n",
       "      <td>NaN</td>\n",
       "      <td>2543.0</td>\n",
       "      <td>NaN</td>\n",
       "      <td>NaN</td>\n",
       "    </tr>\n",
       "    <tr>\n",
       "      <th>4</th>\n",
       "      <td>Allocation</td>\n",
       "      <td>NaN</td>\n",
       "      <td>NaN</td>\n",
       "      <td>NaN</td>\n",
       "      <td>NaN</td>\n",
       "      <td>NaN</td>\n",
       "      <td>NaN</td>\n",
       "      <td>NaN</td>\n",
       "      <td>NaN</td>\n",
       "      <td>NaN</td>\n",
       "      <td>...</td>\n",
       "      <td>NaN</td>\n",
       "      <td>NaN</td>\n",
       "      <td>NaT</td>\n",
       "      <td>NaN</td>\n",
       "      <td>0.0</td>\n",
       "      <td>2024-06-23</td>\n",
       "      <td>NaN</td>\n",
       "      <td>1180.0</td>\n",
       "      <td>NaN</td>\n",
       "      <td>NaN</td>\n",
       "    </tr>\n",
       "  </tbody>\n",
       "</table>\n",
       "<p>5 rows × 38 columns</p>\n",
       "</div>"
      ],
      "text/plain": [
       "  Demand Type Ord Type  SKU Part #  Adaptor Customer # Cust Name Region  \\\n",
       "0  Allocation      NaN  NaN    NaN      NaN        NaN       NaN    NaN   \n",
       "1  Allocation      NaN  NaN    NaN      NaN        NaN       NaN    NaN   \n",
       "2  Allocation      NaN  NaN    NaN      NaN        NaN       NaN    NaN   \n",
       "3  Allocation      NaN  NaN    NaN      NaN        NaN       NaN    NaN   \n",
       "4  Allocation      NaN  NaN    NaN      NaN        NaN       NaN    NaN   \n",
       "\n",
       "   SalesPriority End Customer  ... Higher Level Item  Del # Del Date  \\\n",
       "0            NaN          NaN  ...               NaN    NaN      NaT   \n",
       "1            NaN          NaN  ...               NaN    NaN      NaT   \n",
       "2            NaN          NaN  ...               NaN    NaN      NaT   \n",
       "3            NaN          NaN  ...               NaN    NaN      NaT   \n",
       "4            NaN          NaN  ...               NaN    NaN      NaT   \n",
       "\n",
       "   Rejection Allocation Qty  Allocation Date  Planning Group  Alt Allocation  \\\n",
       "0        NaN            0.0       2024-05-05             NaN             4.0   \n",
       "1        NaN            0.0       2024-06-23             NaN            48.0   \n",
       "2        NaN            0.0       2024-05-12             NaN          2163.0   \n",
       "3        NaN            0.0       2024-06-23             NaN          2543.0   \n",
       "4        NaN            0.0       2024-06-23             NaN          1180.0   \n",
       "\n",
       "  Product End Customer Product End Customer Name  \n",
       "0                  NaN                       NaN  \n",
       "1                  NaN                       NaN  \n",
       "2                  NaN                       NaN  \n",
       "3                  NaN                       NaN  \n",
       "4                  NaN                       NaN  \n",
       "\n",
       "[5 rows x 38 columns]"
      ]
     },
     "execution_count": 3,
     "metadata": {},
     "output_type": "execute_result"
    }
   ],
   "source": [
    "df.head()"
   ]
  },
  {
   "cell_type": "code",
   "execution_count": 7,
   "metadata": {},
   "outputs": [],
   "source": [
    "# Filtering the data to be given to CloudPaths\n",
    "\n",
    "sku_list = []\n",
    "count = 0\n",
    "for sku_selected in list(df['SKU'].unique()):\n",
    "    sku_list.append(sku_selected)\n",
    "    if count == 100:\n",
    "        break\n",
    "    count = count + 1\n"
   ]
  },
  {
   "cell_type": "code",
   "execution_count": 8,
   "metadata": {},
   "outputs": [
    {
     "data": {
      "text/plain": [
       "100"
      ]
     },
     "execution_count": 8,
     "metadata": {},
     "output_type": "execute_result"
    }
   ],
   "source": [
    "count"
   ]
  },
  {
   "cell_type": "code",
   "execution_count": 11,
   "metadata": {},
   "outputs": [],
   "source": [
    "df_subset = df[df['SKU'].isin(sku_list)].copy()"
   ]
  },
  {
   "cell_type": "code",
   "execution_count": 12,
   "metadata": {},
   "outputs": [
    {
     "data": {
      "text/html": [
       "<div>\n",
       "<style scoped>\n",
       "    .dataframe tbody tr th:only-of-type {\n",
       "        vertical-align: middle;\n",
       "    }\n",
       "\n",
       "    .dataframe tbody tr th {\n",
       "        vertical-align: top;\n",
       "    }\n",
       "\n",
       "    .dataframe thead th {\n",
       "        text-align: right;\n",
       "    }\n",
       "</style>\n",
       "<table border=\"1\" class=\"dataframe\">\n",
       "  <thead>\n",
       "    <tr style=\"text-align: right;\">\n",
       "      <th></th>\n",
       "      <th>Demand Type</th>\n",
       "      <th>Ord Type</th>\n",
       "      <th>SKU</th>\n",
       "      <th>Part #</th>\n",
       "      <th>Adaptor</th>\n",
       "      <th>Customer #</th>\n",
       "      <th>Cust Name</th>\n",
       "      <th>Region</th>\n",
       "      <th>SalesPriority</th>\n",
       "      <th>End Customer</th>\n",
       "      <th>...</th>\n",
       "      <th>Higher Level Item</th>\n",
       "      <th>Del #</th>\n",
       "      <th>Del Date</th>\n",
       "      <th>Rejection</th>\n",
       "      <th>Allocation Qty</th>\n",
       "      <th>Allocation Date</th>\n",
       "      <th>Planning Group</th>\n",
       "      <th>Alt Allocation</th>\n",
       "      <th>Product End Customer</th>\n",
       "      <th>Product End Customer Name</th>\n",
       "    </tr>\n",
       "  </thead>\n",
       "  <tbody>\n",
       "    <tr>\n",
       "      <th>0</th>\n",
       "      <td>Allocation</td>\n",
       "      <td>NaN</td>\n",
       "      <td>NaN</td>\n",
       "      <td>NaN</td>\n",
       "      <td>NaN</td>\n",
       "      <td>NaN</td>\n",
       "      <td>NaN</td>\n",
       "      <td>NaN</td>\n",
       "      <td>NaN</td>\n",
       "      <td>NaN</td>\n",
       "      <td>...</td>\n",
       "      <td>NaN</td>\n",
       "      <td>NaN</td>\n",
       "      <td>NaT</td>\n",
       "      <td>NaN</td>\n",
       "      <td>0.0</td>\n",
       "      <td>2024-05-05</td>\n",
       "      <td>NaN</td>\n",
       "      <td>4.0</td>\n",
       "      <td>NaN</td>\n",
       "      <td>NaN</td>\n",
       "    </tr>\n",
       "    <tr>\n",
       "      <th>1</th>\n",
       "      <td>Allocation</td>\n",
       "      <td>NaN</td>\n",
       "      <td>NaN</td>\n",
       "      <td>NaN</td>\n",
       "      <td>NaN</td>\n",
       "      <td>NaN</td>\n",
       "      <td>NaN</td>\n",
       "      <td>NaN</td>\n",
       "      <td>NaN</td>\n",
       "      <td>NaN</td>\n",
       "      <td>...</td>\n",
       "      <td>NaN</td>\n",
       "      <td>NaN</td>\n",
       "      <td>NaT</td>\n",
       "      <td>NaN</td>\n",
       "      <td>0.0</td>\n",
       "      <td>2024-06-23</td>\n",
       "      <td>NaN</td>\n",
       "      <td>48.0</td>\n",
       "      <td>NaN</td>\n",
       "      <td>NaN</td>\n",
       "    </tr>\n",
       "    <tr>\n",
       "      <th>2</th>\n",
       "      <td>Allocation</td>\n",
       "      <td>NaN</td>\n",
       "      <td>NaN</td>\n",
       "      <td>NaN</td>\n",
       "      <td>NaN</td>\n",
       "      <td>NaN</td>\n",
       "      <td>NaN</td>\n",
       "      <td>NaN</td>\n",
       "      <td>NaN</td>\n",
       "      <td>NaN</td>\n",
       "      <td>...</td>\n",
       "      <td>NaN</td>\n",
       "      <td>NaN</td>\n",
       "      <td>NaT</td>\n",
       "      <td>NaN</td>\n",
       "      <td>0.0</td>\n",
       "      <td>2024-05-12</td>\n",
       "      <td>NaN</td>\n",
       "      <td>2163.0</td>\n",
       "      <td>NaN</td>\n",
       "      <td>NaN</td>\n",
       "    </tr>\n",
       "    <tr>\n",
       "      <th>3</th>\n",
       "      <td>Allocation</td>\n",
       "      <td>NaN</td>\n",
       "      <td>NaN</td>\n",
       "      <td>NaN</td>\n",
       "      <td>NaN</td>\n",
       "      <td>NaN</td>\n",
       "      <td>NaN</td>\n",
       "      <td>NaN</td>\n",
       "      <td>NaN</td>\n",
       "      <td>NaN</td>\n",
       "      <td>...</td>\n",
       "      <td>NaN</td>\n",
       "      <td>NaN</td>\n",
       "      <td>NaT</td>\n",
       "      <td>NaN</td>\n",
       "      <td>0.0</td>\n",
       "      <td>2024-06-23</td>\n",
       "      <td>NaN</td>\n",
       "      <td>2543.0</td>\n",
       "      <td>NaN</td>\n",
       "      <td>NaN</td>\n",
       "    </tr>\n",
       "    <tr>\n",
       "      <th>4</th>\n",
       "      <td>Allocation</td>\n",
       "      <td>NaN</td>\n",
       "      <td>NaN</td>\n",
       "      <td>NaN</td>\n",
       "      <td>NaN</td>\n",
       "      <td>NaN</td>\n",
       "      <td>NaN</td>\n",
       "      <td>NaN</td>\n",
       "      <td>NaN</td>\n",
       "      <td>NaN</td>\n",
       "      <td>...</td>\n",
       "      <td>NaN</td>\n",
       "      <td>NaN</td>\n",
       "      <td>NaT</td>\n",
       "      <td>NaN</td>\n",
       "      <td>0.0</td>\n",
       "      <td>2024-06-23</td>\n",
       "      <td>NaN</td>\n",
       "      <td>1180.0</td>\n",
       "      <td>NaN</td>\n",
       "      <td>NaN</td>\n",
       "    </tr>\n",
       "  </tbody>\n",
       "</table>\n",
       "<p>5 rows × 38 columns</p>\n",
       "</div>"
      ],
      "text/plain": [
       "  Demand Type Ord Type  SKU Part #  Adaptor Customer # Cust Name Region  \\\n",
       "0  Allocation      NaN  NaN    NaN      NaN        NaN       NaN    NaN   \n",
       "1  Allocation      NaN  NaN    NaN      NaN        NaN       NaN    NaN   \n",
       "2  Allocation      NaN  NaN    NaN      NaN        NaN       NaN    NaN   \n",
       "3  Allocation      NaN  NaN    NaN      NaN        NaN       NaN    NaN   \n",
       "4  Allocation      NaN  NaN    NaN      NaN        NaN       NaN    NaN   \n",
       "\n",
       "   SalesPriority End Customer  ... Higher Level Item  Del # Del Date  \\\n",
       "0            NaN          NaN  ...               NaN    NaN      NaT   \n",
       "1            NaN          NaN  ...               NaN    NaN      NaT   \n",
       "2            NaN          NaN  ...               NaN    NaN      NaT   \n",
       "3            NaN          NaN  ...               NaN    NaN      NaT   \n",
       "4            NaN          NaN  ...               NaN    NaN      NaT   \n",
       "\n",
       "   Rejection Allocation Qty  Allocation Date  Planning Group  Alt Allocation  \\\n",
       "0        NaN            0.0       2024-05-05             NaN             4.0   \n",
       "1        NaN            0.0       2024-06-23             NaN            48.0   \n",
       "2        NaN            0.0       2024-05-12             NaN          2163.0   \n",
       "3        NaN            0.0       2024-06-23             NaN          2543.0   \n",
       "4        NaN            0.0       2024-06-23             NaN          1180.0   \n",
       "\n",
       "  Product End Customer Product End Customer Name  \n",
       "0                  NaN                       NaN  \n",
       "1                  NaN                       NaN  \n",
       "2                  NaN                       NaN  \n",
       "3                  NaN                       NaN  \n",
       "4                  NaN                       NaN  \n",
       "\n",
       "[5 rows x 38 columns]"
      ]
     },
     "execution_count": 12,
     "metadata": {},
     "output_type": "execute_result"
    }
   ],
   "source": [
    "df_subset.head()"
   ]
  },
  {
   "cell_type": "code",
   "execution_count": 13,
   "metadata": {},
   "outputs": [
    {
     "data": {
      "text/plain": [
       "array(['Allocation', 'Supply', 'Locked Allocation', 'BOOKED', 'SHIPPED',\n",
       "       'JFF', 'BUF', 'RSF'], dtype=object)"
      ]
     },
     "execution_count": 13,
     "metadata": {},
     "output_type": "execute_result"
    }
   ],
   "source": [
    "df_subset['Demand Type'].unique()"
   ]
  },
  {
   "cell_type": "code",
   "execution_count": 16,
   "metadata": {},
   "outputs": [],
   "source": [
    "df_subset.to_excel('CustomerAllocSubset.xlsx', index=False)"
   ]
  },
  {
   "cell_type": "code",
   "execution_count": null,
   "metadata": {},
   "outputs": [],
   "source": []
  },
  {
   "cell_type": "code",
   "execution_count": 4,
   "metadata": {},
   "outputs": [],
   "source": [
    "datetime_columns = []\n",
    "for column in df.columns:\n",
    "    if df[column].dtype == \"<M8[ns]\":\n",
    "        datetime_columns.append(column)\n",
    "        # df[column] = pd.to_datetime(df[column])"
   ]
  },
  {
   "cell_type": "code",
   "execution_count": 9,
   "metadata": {},
   "outputs": [
    {
     "data": {
      "text/plain": [
       "0        NaT\n",
       "1        NaT\n",
       "2        NaT\n",
       "3        NaT\n",
       "4        NaT\n",
       "          ..\n",
       "249447   NaT\n",
       "249448   NaT\n",
       "249449   NaT\n",
       "249450   NaT\n",
       "249451   NaT\n",
       "Name: Ord Date, Length: 249452, dtype: datetime64[ns]"
      ]
     },
     "execution_count": 9,
     "metadata": {},
     "output_type": "execute_result"
    }
   ],
   "source": [
    "pd.to_datetime(df['Ord Date'])"
   ]
  },
  {
   "cell_type": "code",
   "execution_count": 5,
   "metadata": {},
   "outputs": [
    {
     "data": {
      "text/plain": [
       "['Ord Date',\n",
       " 'CRD Date',\n",
       " 'Inv Date',\n",
       " 'Pl. GI Date',\n",
       " 'MAD',\n",
       " 'Del Date',\n",
       " 'Allocation Date']"
      ]
     },
     "execution_count": 5,
     "metadata": {},
     "output_type": "execute_result"
    }
   ],
   "source": [
    "datetime_columns"
   ]
  },
  {
   "cell_type": "code",
   "execution_count": 8,
   "metadata": {},
   "outputs": [
    {
     "data": {
      "text/plain": [
       "dtype('<M8[ns]')"
      ]
     },
     "execution_count": 8,
     "metadata": {},
     "output_type": "execute_result"
    }
   ],
   "source": [
    "df['Ord Date'].dtype"
   ]
  },
  {
   "cell_type": "code",
   "execution_count": 7,
   "metadata": {},
   "outputs": [
    {
     "ename": "ValueError",
     "evalue": "to assemble mappings requires at least that [year, month, day] be specified: [day,month,year] is missing",
     "output_type": "error",
     "traceback": [
      "\u001b[0;31m---------------------------------------------------------------------------\u001b[0m",
      "\u001b[0;31mValueError\u001b[0m                                Traceback (most recent call last)",
      "Cell \u001b[0;32mIn[7], line 1\u001b[0m\n\u001b[0;32m----> 1\u001b[0m df[datetime_columns] \u001b[38;5;241m=\u001b[39m \u001b[43mpd\u001b[49m\u001b[38;5;241;43m.\u001b[39;49m\u001b[43mto_datetime\u001b[49m\u001b[43m(\u001b[49m\u001b[43mdf\u001b[49m\u001b[43m[\u001b[49m\u001b[43mdatetime_columns\u001b[49m\u001b[43m]\u001b[49m\u001b[43m)\u001b[49m\n",
      "File \u001b[0;32m~/projects/DemandPlannerCoPilot/myenv/lib/python3.10/site-packages/pandas/core/tools/datetimes.py:1070\u001b[0m, in \u001b[0;36mto_datetime\u001b[0;34m(arg, errors, dayfirst, yearfirst, utc, format, exact, unit, infer_datetime_format, origin, cache)\u001b[0m\n\u001b[1;32m   1068\u001b[0m         result \u001b[38;5;241m=\u001b[39m arg\u001b[38;5;241m.\u001b[39m_constructor(values, index\u001b[38;5;241m=\u001b[39marg\u001b[38;5;241m.\u001b[39mindex, name\u001b[38;5;241m=\u001b[39marg\u001b[38;5;241m.\u001b[39mname)\n\u001b[1;32m   1069\u001b[0m \u001b[38;5;28;01melif\u001b[39;00m \u001b[38;5;28misinstance\u001b[39m(arg, (ABCDataFrame, abc\u001b[38;5;241m.\u001b[39mMutableMapping)):\n\u001b[0;32m-> 1070\u001b[0m     result \u001b[38;5;241m=\u001b[39m \u001b[43m_assemble_from_unit_mappings\u001b[49m\u001b[43m(\u001b[49m\u001b[43marg\u001b[49m\u001b[43m,\u001b[49m\u001b[43m \u001b[49m\u001b[43merrors\u001b[49m\u001b[43m,\u001b[49m\u001b[43m \u001b[49m\u001b[43mutc\u001b[49m\u001b[43m)\u001b[49m\n\u001b[1;32m   1071\u001b[0m \u001b[38;5;28;01melif\u001b[39;00m \u001b[38;5;28misinstance\u001b[39m(arg, Index):\n\u001b[1;32m   1072\u001b[0m     cache_array \u001b[38;5;241m=\u001b[39m _maybe_cache(arg, \u001b[38;5;28mformat\u001b[39m, cache, convert_listlike)\n",
      "File \u001b[0;32m~/projects/DemandPlannerCoPilot/myenv/lib/python3.10/site-packages/pandas/core/tools/datetimes.py:1186\u001b[0m, in \u001b[0;36m_assemble_from_unit_mappings\u001b[0;34m(arg, errors, utc)\u001b[0m\n\u001b[1;32m   1184\u001b[0m \u001b[38;5;28;01mif\u001b[39;00m \u001b[38;5;28mlen\u001b[39m(req):\n\u001b[1;32m   1185\u001b[0m     _required \u001b[38;5;241m=\u001b[39m \u001b[38;5;124m\"\u001b[39m\u001b[38;5;124m,\u001b[39m\u001b[38;5;124m\"\u001b[39m\u001b[38;5;241m.\u001b[39mjoin(req)\n\u001b[0;32m-> 1186\u001b[0m     \u001b[38;5;28;01mraise\u001b[39;00m \u001b[38;5;167;01mValueError\u001b[39;00m(\n\u001b[1;32m   1187\u001b[0m         \u001b[38;5;124m\"\u001b[39m\u001b[38;5;124mto assemble mappings requires at least that \u001b[39m\u001b[38;5;124m\"\u001b[39m\n\u001b[1;32m   1188\u001b[0m         \u001b[38;5;124mf\u001b[39m\u001b[38;5;124m\"\u001b[39m\u001b[38;5;124m[year, month, day] be specified: [\u001b[39m\u001b[38;5;132;01m{\u001b[39;00m_required\u001b[38;5;132;01m}\u001b[39;00m\u001b[38;5;124m] is missing\u001b[39m\u001b[38;5;124m\"\u001b[39m\n\u001b[1;32m   1189\u001b[0m     )\n\u001b[1;32m   1191\u001b[0m \u001b[38;5;66;03m# keys we don't recognize\u001b[39;00m\n\u001b[1;32m   1192\u001b[0m excess \u001b[38;5;241m=\u001b[39m \u001b[38;5;28msorted\u001b[39m(\u001b[38;5;28mset\u001b[39m(unit_rev\u001b[38;5;241m.\u001b[39mkeys()) \u001b[38;5;241m-\u001b[39m \u001b[38;5;28mset\u001b[39m(_unit_map\u001b[38;5;241m.\u001b[39mvalues()))\n",
      "\u001b[0;31mValueError\u001b[0m: to assemble mappings requires at least that [year, month, day] be specified: [day,month,year] is missing"
     ]
    }
   ],
   "source": [
    "df[datetime_columns] = pd.to_datetime(df[datetime_columns])"
   ]
  },
  {
   "cell_type": "code",
   "execution_count": null,
   "metadata": {},
   "outputs": [],
   "source": []
  },
  {
   "cell_type": "code",
   "execution_count": 13,
   "metadata": {},
   "outputs": [
    {
     "data": {
      "text/plain": [
       "['Ord Date',\n",
       " 'CRD Date',\n",
       " 'Inv Date',\n",
       " 'Pl. GI Date',\n",
       " 'MAD',\n",
       " 'Del Date',\n",
       " 'Allocation Date']"
      ]
     },
     "execution_count": 13,
     "metadata": {},
     "output_type": "execute_result"
    }
   ],
   "source": [
    "datetime_columns"
   ]
  },
  {
   "cell_type": "code",
   "execution_count": null,
   "metadata": {},
   "outputs": [],
   "source": []
  },
  {
   "cell_type": "code",
   "execution_count": 10,
   "metadata": {},
   "outputs": [
    {
     "data": {
      "text/html": [
       "<div>\n",
       "<style scoped>\n",
       "    .dataframe tbody tr th:only-of-type {\n",
       "        vertical-align: middle;\n",
       "    }\n",
       "\n",
       "    .dataframe tbody tr th {\n",
       "        vertical-align: top;\n",
       "    }\n",
       "\n",
       "    .dataframe thead th {\n",
       "        text-align: right;\n",
       "    }\n",
       "</style>\n",
       "<table border=\"1\" class=\"dataframe\">\n",
       "  <thead>\n",
       "    <tr style=\"text-align: right;\">\n",
       "      <th></th>\n",
       "      <th>Demand Type</th>\n",
       "      <th>Ord Type</th>\n",
       "      <th>SKU</th>\n",
       "      <th>Part #</th>\n",
       "      <th>Adaptor</th>\n",
       "      <th>Customer #</th>\n",
       "      <th>Cust Name</th>\n",
       "      <th>Region</th>\n",
       "      <th>SalesPriority</th>\n",
       "      <th>End Customer</th>\n",
       "      <th>...</th>\n",
       "      <th>Higher Level Item</th>\n",
       "      <th>Del #</th>\n",
       "      <th>Del Date</th>\n",
       "      <th>Rejection</th>\n",
       "      <th>Allocation Qty</th>\n",
       "      <th>Allocation Date</th>\n",
       "      <th>Planning Group</th>\n",
       "      <th>Alt Allocation</th>\n",
       "      <th>Product End Customer</th>\n",
       "      <th>Product End Customer Name</th>\n",
       "    </tr>\n",
       "  </thead>\n",
       "  <tbody>\n",
       "    <tr>\n",
       "      <th>0</th>\n",
       "      <td>Allocation</td>\n",
       "      <td>NaN</td>\n",
       "      <td>NaN</td>\n",
       "      <td>NaN</td>\n",
       "      <td>NaN</td>\n",
       "      <td>NaN</td>\n",
       "      <td>NaN</td>\n",
       "      <td>NaN</td>\n",
       "      <td>NaN</td>\n",
       "      <td>NaN</td>\n",
       "      <td>...</td>\n",
       "      <td>NaN</td>\n",
       "      <td>NaN</td>\n",
       "      <td>NaT</td>\n",
       "      <td>NaN</td>\n",
       "      <td>0.0</td>\n",
       "      <td>2024-05-05</td>\n",
       "      <td>NaN</td>\n",
       "      <td>4.0</td>\n",
       "      <td>NaN</td>\n",
       "      <td>NaN</td>\n",
       "    </tr>\n",
       "    <tr>\n",
       "      <th>1</th>\n",
       "      <td>Allocation</td>\n",
       "      <td>NaN</td>\n",
       "      <td>NaN</td>\n",
       "      <td>NaN</td>\n",
       "      <td>NaN</td>\n",
       "      <td>NaN</td>\n",
       "      <td>NaN</td>\n",
       "      <td>NaN</td>\n",
       "      <td>NaN</td>\n",
       "      <td>NaN</td>\n",
       "      <td>...</td>\n",
       "      <td>NaN</td>\n",
       "      <td>NaN</td>\n",
       "      <td>NaT</td>\n",
       "      <td>NaN</td>\n",
       "      <td>0.0</td>\n",
       "      <td>2024-06-23</td>\n",
       "      <td>NaN</td>\n",
       "      <td>48.0</td>\n",
       "      <td>NaN</td>\n",
       "      <td>NaN</td>\n",
       "    </tr>\n",
       "    <tr>\n",
       "      <th>2</th>\n",
       "      <td>Allocation</td>\n",
       "      <td>NaN</td>\n",
       "      <td>NaN</td>\n",
       "      <td>NaN</td>\n",
       "      <td>NaN</td>\n",
       "      <td>NaN</td>\n",
       "      <td>NaN</td>\n",
       "      <td>NaN</td>\n",
       "      <td>NaN</td>\n",
       "      <td>NaN</td>\n",
       "      <td>...</td>\n",
       "      <td>NaN</td>\n",
       "      <td>NaN</td>\n",
       "      <td>NaT</td>\n",
       "      <td>NaN</td>\n",
       "      <td>0.0</td>\n",
       "      <td>2024-05-12</td>\n",
       "      <td>NaN</td>\n",
       "      <td>2163.0</td>\n",
       "      <td>NaN</td>\n",
       "      <td>NaN</td>\n",
       "    </tr>\n",
       "    <tr>\n",
       "      <th>3</th>\n",
       "      <td>Allocation</td>\n",
       "      <td>NaN</td>\n",
       "      <td>NaN</td>\n",
       "      <td>NaN</td>\n",
       "      <td>NaN</td>\n",
       "      <td>NaN</td>\n",
       "      <td>NaN</td>\n",
       "      <td>NaN</td>\n",
       "      <td>NaN</td>\n",
       "      <td>NaN</td>\n",
       "      <td>...</td>\n",
       "      <td>NaN</td>\n",
       "      <td>NaN</td>\n",
       "      <td>NaT</td>\n",
       "      <td>NaN</td>\n",
       "      <td>0.0</td>\n",
       "      <td>2024-06-23</td>\n",
       "      <td>NaN</td>\n",
       "      <td>2543.0</td>\n",
       "      <td>NaN</td>\n",
       "      <td>NaN</td>\n",
       "    </tr>\n",
       "    <tr>\n",
       "      <th>4</th>\n",
       "      <td>Allocation</td>\n",
       "      <td>NaN</td>\n",
       "      <td>NaN</td>\n",
       "      <td>NaN</td>\n",
       "      <td>NaN</td>\n",
       "      <td>NaN</td>\n",
       "      <td>NaN</td>\n",
       "      <td>NaN</td>\n",
       "      <td>NaN</td>\n",
       "      <td>NaN</td>\n",
       "      <td>...</td>\n",
       "      <td>NaN</td>\n",
       "      <td>NaN</td>\n",
       "      <td>NaT</td>\n",
       "      <td>NaN</td>\n",
       "      <td>0.0</td>\n",
       "      <td>2024-06-23</td>\n",
       "      <td>NaN</td>\n",
       "      <td>1180.0</td>\n",
       "      <td>NaN</td>\n",
       "      <td>NaN</td>\n",
       "    </tr>\n",
       "  </tbody>\n",
       "</table>\n",
       "<p>5 rows × 38 columns</p>\n",
       "</div>"
      ],
      "text/plain": [
       "  Demand Type Ord Type  SKU Part #  Adaptor Customer # Cust Name Region  \\\n",
       "0  Allocation      NaN  NaN    NaN      NaN        NaN       NaN    NaN   \n",
       "1  Allocation      NaN  NaN    NaN      NaN        NaN       NaN    NaN   \n",
       "2  Allocation      NaN  NaN    NaN      NaN        NaN       NaN    NaN   \n",
       "3  Allocation      NaN  NaN    NaN      NaN        NaN       NaN    NaN   \n",
       "4  Allocation      NaN  NaN    NaN      NaN        NaN       NaN    NaN   \n",
       "\n",
       "   SalesPriority End Customer  ... Higher Level Item  Del # Del Date  \\\n",
       "0            NaN          NaN  ...               NaN    NaN      NaT   \n",
       "1            NaN          NaN  ...               NaN    NaN      NaT   \n",
       "2            NaN          NaN  ...               NaN    NaN      NaT   \n",
       "3            NaN          NaN  ...               NaN    NaN      NaT   \n",
       "4            NaN          NaN  ...               NaN    NaN      NaT   \n",
       "\n",
       "   Rejection Allocation Qty  Allocation Date  Planning Group  Alt Allocation  \\\n",
       "0        NaN            0.0       2024-05-05             NaN             4.0   \n",
       "1        NaN            0.0       2024-06-23             NaN            48.0   \n",
       "2        NaN            0.0       2024-05-12             NaN          2163.0   \n",
       "3        NaN            0.0       2024-06-23             NaN          2543.0   \n",
       "4        NaN            0.0       2024-06-23             NaN          1180.0   \n",
       "\n",
       "  Product End Customer Product End Customer Name  \n",
       "0                  NaN                       NaN  \n",
       "1                  NaN                       NaN  \n",
       "2                  NaN                       NaN  \n",
       "3                  NaN                       NaN  \n",
       "4                  NaN                       NaN  \n",
       "\n",
       "[5 rows x 38 columns]"
      ]
     },
     "execution_count": 10,
     "metadata": {},
     "output_type": "execute_result"
    }
   ],
   "source": [
    "df.head()"
   ]
  },
  {
   "cell_type": "code",
   "execution_count": 11,
   "metadata": {},
   "outputs": [
    {
     "data": {
      "text/plain": [
       "0        2024-05-05\n",
       "1        2024-06-23\n",
       "2        2024-05-12\n",
       "3        2024-06-23\n",
       "4        2024-06-23\n",
       "            ...    \n",
       "249447   2024-05-19\n",
       "249448   2024-06-09\n",
       "249449   2024-05-05\n",
       "249450   2024-05-12\n",
       "249451   2024-06-23\n",
       "Name: Allocation Date, Length: 249452, dtype: datetime64[ns]"
      ]
     },
     "execution_count": 11,
     "metadata": {},
     "output_type": "execute_result"
    }
   ],
   "source": [
    "df['Allocation Date']"
   ]
  },
  {
   "cell_type": "code",
   "execution_count": 6,
   "metadata": {},
   "outputs": [
    {
     "data": {
      "text/plain": [
       "dtype('<M8[ns]')"
      ]
     },
     "execution_count": 6,
     "metadata": {},
     "output_type": "execute_result"
    }
   ],
   "source": [
    "df['CRD Date'].dtype"
   ]
  },
  {
   "cell_type": "code",
   "execution_count": null,
   "metadata": {},
   "outputs": [],
   "source": []
  },
  {
   "cell_type": "code",
   "execution_count": 21,
   "metadata": {},
   "outputs": [
    {
     "data": {
      "text/plain": [
       "array(['Allocation', 'Supply', 'Locked Allocation', 'JFF', 'BOOKED',\n",
       "       'SHIPPED', 'ZSCH', 'BUF', 'RSF', 'PULLED'], dtype=object)"
      ]
     },
     "execution_count": 21,
     "metadata": {},
     "output_type": "execute_result"
    }
   ],
   "source": [
    "df['Demand Type'].unique()"
   ]
  },
  {
   "cell_type": "code",
   "execution_count": 22,
   "metadata": {},
   "outputs": [
    {
     "data": {
      "text/plain": [
       "(249452, 38)"
      ]
     },
     "execution_count": 22,
     "metadata": {},
     "output_type": "execute_result"
    }
   ],
   "source": [
    "df.shape"
   ]
  },
  {
   "cell_type": "code",
   "execution_count": 27,
   "metadata": {},
   "outputs": [
    {
     "name": "stdout",
     "output_type": "stream",
     "text": [
      "The shape of the table for Allocation: (21636, 38)\n",
      "The shape of the table for Supply: (32843, 38)\n",
      "The shape of the table for Locked Allocation: (17317, 38)\n",
      "The shape of the table for JFF: (44292, 38)\n",
      "The shape of the table for BOOKED: (35118, 38)\n",
      "The shape of the table for SHIPPED: (22512, 38)\n",
      "The shape of the table for ZSCH: (2761, 38)\n",
      "The shape of the table for BUF: (31374, 38)\n",
      "The shape of the table for RSF: (39019, 38)\n",
      "The shape of the table for PULLED: (2580, 38)\n"
     ]
    }
   ],
   "source": [
    "for demand_type in df['Demand Type'].unique():\n",
    "    print(f\"The shape of the table for {demand_type}: {df[df['Demand Type'] == demand_type].shape}\")"
   ]
  },
  {
   "cell_type": "code",
   "execution_count": 28,
   "metadata": {},
   "outputs": [],
   "source": [
    "df_booked = df[df['Demand Type'] == 'BOOKED'].copy()\n",
    "df_shipped = df[df['Demand Type'] == 'SHIPPED'].copy()"
   ]
  },
  {
   "cell_type": "code",
   "execution_count": 29,
   "metadata": {},
   "outputs": [
    {
     "data": {
      "text/plain": [
       "Index(['Demand Type', 'Ord Type', 'SKU', 'Part #', 'Adaptor', 'Customer #',\n",
       "       'Cust Name', 'Region', 'SalesPriority', 'End Customer', 'End Cust Name',\n",
       "       'Sale Ord #', 'Line #', 'Sch Ln#', 'PO #', 'Quantity', 'Unit Price',\n",
       "       'Amount', 'Ord Date', 'CRD Date', 'Inv Date', 'Pl. GI Date', 'MAD',\n",
       "       'Ship Plnt', 'Business Unit', 'Types', 'Family', 'Line',\n",
       "       'Higher Level Item', 'Del #', 'Del Date', 'Rejection', 'Allocation Qty',\n",
       "       'Allocation Date', 'Planning Group', 'Alt Allocation',\n",
       "       'Product End Customer', 'Product End Customer Name'],\n",
       "      dtype='object')"
      ]
     },
     "execution_count": 29,
     "metadata": {},
     "output_type": "execute_result"
    }
   ],
   "source": [
    "df_booked.columns"
   ]
  },
  {
   "cell_type": "code",
   "execution_count": 32,
   "metadata": {},
   "outputs": [
    {
     "data": {
      "text/plain": [
       "1817"
      ]
     },
     "execution_count": 32,
     "metadata": {},
     "output_type": "execute_result"
    }
   ],
   "source": [
    "len(df_booked['SKU'].unique())"
   ]
  },
  {
   "cell_type": "code",
   "execution_count": 33,
   "metadata": {},
   "outputs": [
    {
     "data": {
      "text/plain": [
       "1654"
      ]
     },
     "execution_count": 33,
     "metadata": {},
     "output_type": "execute_result"
    }
   ],
   "source": [
    "len(df_shipped['SKU'].unique())"
   ]
  },
  {
   "cell_type": "code",
   "execution_count": 35,
   "metadata": {},
   "outputs": [
    {
     "data": {
      "text/plain": [
       "4636"
      ]
     },
     "execution_count": 35,
     "metadata": {},
     "output_type": "execute_result"
    }
   ],
   "source": [
    "len(df['SKU'].unique())"
   ]
  },
  {
   "cell_type": "code",
   "execution_count": null,
   "metadata": {},
   "outputs": [],
   "source": []
  }
 ],
 "metadata": {
  "kernelspec": {
   "display_name": "myenv",
   "language": "python",
   "name": "python3"
  },
  "language_info": {
   "codemirror_mode": {
    "name": "ipython",
    "version": 3
   },
   "file_extension": ".py",
   "mimetype": "text/x-python",
   "name": "python",
   "nbconvert_exporter": "python",
   "pygments_lexer": "ipython3",
   "version": "3.10.12"
  }
 },
 "nbformat": 4,
 "nbformat_minor": 2
}
