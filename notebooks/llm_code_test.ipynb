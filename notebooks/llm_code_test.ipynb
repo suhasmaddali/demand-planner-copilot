{
 "cells": [
  {
   "cell_type": "code",
   "execution_count": null,
   "id": "2e28622c-c76e-4863-96e9-f94403442b79",
   "metadata": {},
   "outputs": [],
   "source": [
    "import pandas as pd\n",
    "import streamlit as st\n",
    "import plotly.express as px\n",
    "import plotly.io as pio\n",
    "\n",
    "# Load the data\n",
    "file_path = '../uploaded_data/uploaded_file.xlsx'\n",
    "xls = pd.ExcelFile(file_path)\n",
    "\n",
    "# Read the 'Customer Demand' sheet\n",
    "customer_demand_data = pd.read_excel(xls, 'Customer Demand')\n",
    "\n",
    "# Filter data for product name 'A100'\n",
    "a100_data = customer_demand_data[customer_demand_data['Product Name'] == 'A100']\n",
    "\n",
    "# Group by 'Customer Name' and 'Customer Request Date' and sum the 'Amount of Products Requested'\n",
    "a100_grouped = a100_data.groupby(['Customer Name', 'Customer Request Date'])['Amount of Products Requested'].sum().reset_index()\n",
    "\n",
    "# Create a line plot using Plotly\n",
    "fig = px.line(a100_grouped, x='Customer Request Date', y='Amount of Products Requested', color='Customer Name',\n",
    "              title='Time Series Plot for Product A100', labels={'Customer Request Date': 'Date', 'Amount of Products Requested': 'Amount of Products Requested'})\n",
    "\n",
    "# Save the Plotly plot as a PNG file\n",
    "fig.write_image(\"llm_generated_plot.png\")"
   ]
  },
  {
   "cell_type": "code",
   "execution_count": 4,
   "id": "3469e6a1-25c9-4173-b43e-8e50aee12ed5",
   "metadata": {},
   "outputs": [
    {
     "data": {
      "application/vnd.plotly.v1+json": {
       "config": {
        "plotlyServerURL": "https://plot.ly"
       },
       "data": [
        {
         "hovertemplate": "Customer Name=Amazon AWS<br>Date=%{x}<br>Amount of Products Requested=%{y}<extra></extra>",
         "legendgroup": "Amazon AWS",
         "line": {
          "color": "#000001",
          "dash": "solid"
         },
         "marker": {
          "symbol": "circle"
         },
         "mode": "lines",
         "name": "Amazon AWS",
         "orientation": "v",
         "showlegend": true,
         "type": "scatter",
         "x": [
          "2023-05-15T00:00:00",
          "2023-05-17T00:00:00",
          "2023-05-21T00:00:00",
          "2023-05-26T00:00:00",
          "2023-06-03T00:00:00",
          "2023-06-04T00:00:00",
          "2023-06-06T00:00:00",
          "2023-06-11T00:00:00",
          "2023-06-17T00:00:00",
          "2023-06-18T00:00:00",
          "2023-06-21T00:00:00",
          "2023-06-25T00:00:00",
          "2023-07-04T00:00:00",
          "2023-07-09T00:00:00",
          "2023-07-10T00:00:00",
          "2023-07-11T00:00:00",
          "2023-07-14T00:00:00",
          "2023-07-15T00:00:00",
          "2023-07-16T00:00:00",
          "2023-07-23T00:00:00"
         ],
         "xaxis": "x",
         "y": [
          71,
          195,
          36,
          80,
          304,
          128,
          168,
          138,
          129,
          230,
          208,
          121,
          140,
          115,
          116,
          24,
          184,
          111,
          133,
          227
         ],
         "yaxis": "y"
        },
        {
         "hovertemplate": "Customer Name=Apple Inc.<br>Date=%{x}<br>Amount of Products Requested=%{y}<extra></extra>",
         "legendgroup": "Apple Inc.",
         "line": {
          "color": "#000002",
          "dash": "solid"
         },
         "marker": {
          "symbol": "circle"
         },
         "mode": "lines",
         "name": "Apple Inc.",
         "orientation": "v",
         "showlegend": true,
         "type": "scatter",
         "x": [
          "2023-05-19T00:00:00",
          "2023-05-20T00:00:00",
          "2023-05-21T00:00:00",
          "2023-05-24T00:00:00",
          "2023-05-25T00:00:00",
          "2023-05-29T00:00:00",
          "2023-06-06T00:00:00",
          "2023-06-09T00:00:00",
          "2023-06-10T00:00:00",
          "2023-06-13T00:00:00",
          "2023-06-24T00:00:00",
          "2023-07-01T00:00:00",
          "2023-07-02T00:00:00",
          "2023-07-03T00:00:00",
          "2023-07-05T00:00:00",
          "2023-07-09T00:00:00",
          "2023-07-14T00:00:00",
          "2023-07-16T00:00:00",
          "2023-07-21T00:00:00",
          "2023-07-22T00:00:00",
          "2023-07-25T00:00:00"
         ],
         "xaxis": "x",
         "y": [
          135,
          30,
          218,
          255,
          174,
          234,
          193,
          74,
          137,
          219,
          28,
          154,
          11,
          92,
          282,
          14,
          118,
          228,
          59,
          209,
          147
         ],
         "yaxis": "y"
        },
        {
         "hovertemplate": "Customer Name=AsusTek Computer<br>Date=%{x}<br>Amount of Products Requested=%{y}<extra></extra>",
         "legendgroup": "AsusTek Computer",
         "line": {
          "color": "#000003",
          "dash": "solid"
         },
         "marker": {
          "symbol": "circle"
         },
         "mode": "lines",
         "name": "AsusTek Computer",
         "orientation": "v",
         "showlegend": true,
         "type": "scatter",
         "x": [
          "2023-05-13T00:00:00",
          "2023-05-16T00:00:00",
          "2023-05-22T00:00:00",
          "2023-05-24T00:00:00",
          "2023-05-26T00:00:00",
          "2023-05-27T00:00:00",
          "2023-06-03T00:00:00",
          "2023-06-05T00:00:00",
          "2023-06-11T00:00:00",
          "2023-06-14T00:00:00",
          "2023-06-15T00:00:00",
          "2023-06-16T00:00:00",
          "2023-07-12T00:00:00",
          "2023-07-15T00:00:00",
          "2023-07-19T00:00:00",
          "2023-07-21T00:00:00"
         ],
         "xaxis": "x",
         "y": [
          160,
          256,
          184,
          288,
          9,
          50,
          171,
          122,
          256,
          192,
          75,
          120,
          50,
          215,
          279,
          500
         ],
         "yaxis": "y"
        },
        {
         "hovertemplate": "Customer Name=Dell Technologies<br>Date=%{x}<br>Amount of Products Requested=%{y}<extra></extra>",
         "legendgroup": "Dell Technologies",
         "line": {
          "color": "#000004",
          "dash": "solid"
         },
         "marker": {
          "symbol": "circle"
         },
         "mode": "lines",
         "name": "Dell Technologies",
         "orientation": "v",
         "showlegend": true,
         "type": "scatter",
         "x": [
          "2023-05-13T00:00:00",
          "2023-05-18T00:00:00",
          "2023-05-24T00:00:00",
          "2023-05-25T00:00:00",
          "2023-05-31T00:00:00",
          "2023-06-06T00:00:00",
          "2023-06-11T00:00:00",
          "2023-06-12T00:00:00",
          "2023-06-15T00:00:00",
          "2023-06-16T00:00:00",
          "2023-06-18T00:00:00",
          "2023-06-19T00:00:00",
          "2023-06-22T00:00:00",
          "2023-06-25T00:00:00",
          "2023-06-28T00:00:00",
          "2023-06-29T00:00:00",
          "2023-07-02T00:00:00",
          "2023-07-04T00:00:00",
          "2023-07-06T00:00:00",
          "2023-07-09T00:00:00",
          "2023-07-10T00:00:00",
          "2023-07-13T00:00:00",
          "2023-07-19T00:00:00",
          "2023-07-20T00:00:00",
          "2023-07-22T00:00:00",
          "2023-07-24T00:00:00"
         ],
         "xaxis": "x",
         "y": [
          203,
          142,
          270,
          260,
          283,
          197,
          261,
          180,
          104,
          260,
          291,
          33,
          513,
          40,
          18,
          288,
          245,
          115,
          152,
          79,
          103,
          210,
          325,
          283,
          247,
          252
         ],
         "yaxis": "y"
        },
        {
         "hovertemplate": "Customer Name=Google Cloud<br>Date=%{x}<br>Amount of Products Requested=%{y}<extra></extra>",
         "legendgroup": "Google Cloud",
         "line": {
          "color": "#000005",
          "dash": "solid"
         },
         "marker": {
          "symbol": "circle"
         },
         "mode": "lines",
         "name": "Google Cloud",
         "orientation": "v",
         "showlegend": true,
         "type": "scatter",
         "x": [
          "2023-05-21T00:00:00",
          "2023-06-03T00:00:00",
          "2023-06-05T00:00:00",
          "2023-06-09T00:00:00",
          "2023-06-10T00:00:00",
          "2023-06-18T00:00:00",
          "2023-06-28T00:00:00",
          "2023-07-03T00:00:00",
          "2023-07-04T00:00:00",
          "2023-07-15T00:00:00",
          "2023-07-24T00:00:00"
         ],
         "xaxis": "x",
         "y": [
          130,
          67,
          559,
          190,
          192,
          180,
          91,
          120,
          261,
          186,
          194
         ],
         "yaxis": "y"
        },
        {
         "hovertemplate": "Customer Name=HP Inc.<br>Date=%{x}<br>Amount of Products Requested=%{y}<extra></extra>",
         "legendgroup": "HP Inc.",
         "line": {
          "color": "#000006",
          "dash": "solid"
         },
         "marker": {
          "symbol": "circle"
         },
         "mode": "lines",
         "name": "HP Inc.",
         "orientation": "v",
         "showlegend": true,
         "type": "scatter",
         "x": [
          "2023-05-12T00:00:00",
          "2023-05-21T00:00:00",
          "2023-05-22T00:00:00",
          "2023-05-27T00:00:00",
          "2023-06-01T00:00:00",
          "2023-06-03T00:00:00",
          "2023-06-07T00:00:00",
          "2023-06-08T00:00:00",
          "2023-06-09T00:00:00",
          "2023-06-10T00:00:00",
          "2023-06-13T00:00:00",
          "2023-06-15T00:00:00",
          "2023-06-16T00:00:00",
          "2023-06-19T00:00:00",
          "2023-06-21T00:00:00",
          "2023-06-29T00:00:00",
          "2023-06-30T00:00:00",
          "2023-07-04T00:00:00",
          "2023-07-19T00:00:00",
          "2023-07-21T00:00:00"
         ],
         "xaxis": "x",
         "y": [
          80,
          216,
          343,
          13,
          13,
          147,
          243,
          94,
          84,
          34,
          52,
          143,
          110,
          58,
          261,
          47,
          122,
          60,
          43,
          379
         ],
         "yaxis": "y"
        },
        {
         "hovertemplate": "Customer Name=Lenovo Group<br>Date=%{x}<br>Amount of Products Requested=%{y}<extra></extra>",
         "legendgroup": "Lenovo Group",
         "line": {
          "color": "#000007",
          "dash": "solid"
         },
         "marker": {
          "symbol": "circle"
         },
         "mode": "lines",
         "name": "Lenovo Group",
         "orientation": "v",
         "showlegend": true,
         "type": "scatter",
         "x": [
          "2023-05-12T00:00:00",
          "2023-05-28T00:00:00",
          "2023-06-01T00:00:00",
          "2023-06-04T00:00:00",
          "2023-06-09T00:00:00",
          "2023-06-18T00:00:00",
          "2023-06-20T00:00:00",
          "2023-06-21T00:00:00",
          "2023-06-22T00:00:00",
          "2023-06-23T00:00:00",
          "2023-06-26T00:00:00",
          "2023-07-05T00:00:00",
          "2023-07-11T00:00:00",
          "2023-07-13T00:00:00",
          "2023-07-20T00:00:00",
          "2023-07-24T00:00:00"
         ],
         "xaxis": "x",
         "y": [
          146,
          73,
          162,
          108,
          206,
          44,
          269,
          100,
          242,
          269,
          262,
          31,
          62,
          231,
          274,
          163
         ],
         "yaxis": "y"
        },
        {
         "hovertemplate": "Customer Name=MSI<br>Date=%{x}<br>Amount of Products Requested=%{y}<extra></extra>",
         "legendgroup": "MSI",
         "line": {
          "color": "#000008",
          "dash": "solid"
         },
         "marker": {
          "symbol": "circle"
         },
         "mode": "lines",
         "name": "MSI",
         "orientation": "v",
         "showlegend": true,
         "type": "scatter",
         "x": [
          "2023-05-16T00:00:00",
          "2023-05-27T00:00:00",
          "2023-05-28T00:00:00",
          "2023-05-29T00:00:00",
          "2023-06-03T00:00:00",
          "2023-06-06T00:00:00",
          "2023-06-07T00:00:00",
          "2023-06-10T00:00:00",
          "2023-06-14T00:00:00",
          "2023-07-01T00:00:00",
          "2023-07-04T00:00:00",
          "2023-07-15T00:00:00",
          "2023-07-18T00:00:00",
          "2023-07-22T00:00:00",
          "2023-07-23T00:00:00"
         ],
         "xaxis": "x",
         "y": [
          73,
          451,
          195,
          129,
          438,
          158,
          166,
          561,
          63,
          40,
          192,
          151,
          34,
          406,
          249
         ],
         "yaxis": "y"
        },
        {
         "hovertemplate": "Customer Name=Microsoft Azure<br>Date=%{x}<br>Amount of Products Requested=%{y}<extra></extra>",
         "legendgroup": "Microsoft Azure",
         "line": {
          "color": "#000009",
          "dash": "solid"
         },
         "marker": {
          "symbol": "circle"
         },
         "mode": "lines",
         "name": "Microsoft Azure",
         "orientation": "v",
         "showlegend": true,
         "type": "scatter",
         "x": [
          "2023-05-16T00:00:00",
          "2023-05-30T00:00:00",
          "2023-05-31T00:00:00",
          "2023-06-10T00:00:00",
          "2023-06-13T00:00:00",
          "2023-06-19T00:00:00",
          "2023-06-20T00:00:00",
          "2023-06-23T00:00:00",
          "2023-07-04T00:00:00",
          "2023-07-12T00:00:00",
          "2023-07-15T00:00:00",
          "2023-07-17T00:00:00",
          "2023-07-22T00:00:00"
         ],
         "xaxis": "x",
         "y": [
          209,
          197,
          165,
          177,
          26,
          243,
          221,
          148,
          81,
          114,
          254,
          259,
          278
         ],
         "yaxis": "y"
        },
        {
         "hovertemplate": "Customer Name=Samsung Electronics<br>Date=%{x}<br>Amount of Products Requested=%{y}<extra></extra>",
         "legendgroup": "Samsung Electronics",
         "line": {
          "color": "#000010",
          "dash": "solid"
         },
         "marker": {
          "symbol": "circle"
         },
         "mode": "lines",
         "name": "Samsung Electronics",
         "orientation": "v",
         "showlegend": true,
         "type": "scatter",
         "x": [
          "2023-05-14T00:00:00",
          "2023-05-18T00:00:00",
          "2023-05-22T00:00:00",
          "2023-05-27T00:00:00",
          "2023-06-03T00:00:00",
          "2023-06-04T00:00:00",
          "2023-06-12T00:00:00",
          "2023-06-16T00:00:00",
          "2023-06-17T00:00:00",
          "2023-06-18T00:00:00",
          "2023-06-19T00:00:00",
          "2023-06-26T00:00:00",
          "2023-06-28T00:00:00",
          "2023-07-01T00:00:00",
          "2023-07-02T00:00:00",
          "2023-07-04T00:00:00",
          "2023-07-07T00:00:00",
          "2023-07-11T00:00:00",
          "2023-07-18T00:00:00",
          "2023-07-21T00:00:00",
          "2023-07-24T00:00:00"
         ],
         "xaxis": "x",
         "y": [
          149,
          150,
          107,
          224,
          246,
          267,
          250,
          66,
          284,
          67,
          222,
          288,
          46,
          26,
          204,
          513,
          286,
          276,
          281,
          272,
          231
         ],
         "yaxis": "y"
        }
       ],
       "layout": {
        "autosize": true,
        "legend": {
         "title": {
          "text": "Customer Name"
         },
         "tracegroupgap": 0
        },
        "template": {
         "data": {
          "candlestick": [
           {
            "decreasing": {
             "line": {
              "color": "#000033"
             }
            },
            "increasing": {
             "line": {
              "color": "#000032"
             }
            },
            "type": "candlestick"
           }
          ],
          "contour": [
           {
            "colorscale": [
             [
              0,
              "#000011"
             ],
             [
              0.1111111111111111,
              "#000012"
             ],
             [
              0.2222222222222222,
              "#000013"
             ],
             [
              0.3333333333333333,
              "#000014"
             ],
             [
              0.4444444444444444,
              "#000015"
             ],
             [
              0.5555555555555556,
              "#000016"
             ],
             [
              0.6666666666666666,
              "#000017"
             ],
             [
              0.7777777777777778,
              "#000018"
             ],
             [
              0.8888888888888888,
              "#000019"
             ],
             [
              1,
              "#000020"
             ]
            ],
            "type": "contour"
           }
          ],
          "contourcarpet": [
           {
            "colorscale": [
             [
              0,
              "#000011"
             ],
             [
              0.1111111111111111,
              "#000012"
             ],
             [
              0.2222222222222222,
              "#000013"
             ],
             [
              0.3333333333333333,
              "#000014"
             ],
             [
              0.4444444444444444,
              "#000015"
             ],
             [
              0.5555555555555556,
              "#000016"
             ],
             [
              0.6666666666666666,
              "#000017"
             ],
             [
              0.7777777777777778,
              "#000018"
             ],
             [
              0.8888888888888888,
              "#000019"
             ],
             [
              1,
              "#000020"
             ]
            ],
            "type": "contourcarpet"
           }
          ],
          "heatmap": [
           {
            "colorscale": [
             [
              0,
              "#000011"
             ],
             [
              0.1111111111111111,
              "#000012"
             ],
             [
              0.2222222222222222,
              "#000013"
             ],
             [
              0.3333333333333333,
              "#000014"
             ],
             [
              0.4444444444444444,
              "#000015"
             ],
             [
              0.5555555555555556,
              "#000016"
             ],
             [
              0.6666666666666666,
              "#000017"
             ],
             [
              0.7777777777777778,
              "#000018"
             ],
             [
              0.8888888888888888,
              "#000019"
             ],
             [
              1,
              "#000020"
             ]
            ],
            "type": "heatmap"
           }
          ],
          "histogram2d": [
           {
            "colorscale": [
             [
              0,
              "#000011"
             ],
             [
              0.1111111111111111,
              "#000012"
             ],
             [
              0.2222222222222222,
              "#000013"
             ],
             [
              0.3333333333333333,
              "#000014"
             ],
             [
              0.4444444444444444,
              "#000015"
             ],
             [
              0.5555555555555556,
              "#000016"
             ],
             [
              0.6666666666666666,
              "#000017"
             ],
             [
              0.7777777777777778,
              "#000018"
             ],
             [
              0.8888888888888888,
              "#000019"
             ],
             [
              1,
              "#000020"
             ]
            ],
            "type": "histogram2d"
           }
          ],
          "icicle": [
           {
            "textfont": {
             "color": "white"
            },
            "type": "icicle"
           }
          ],
          "sankey": [
           {
            "textfont": {
             "color": "#000036"
            },
            "type": "sankey"
           }
          ],
          "scatter": [
           {
            "marker": {
             "line": {
              "width": 0
             }
            },
            "type": "scatter"
           }
          ],
          "table": [
           {
            "cells": {
             "fill": {
              "color": "#000038"
             },
             "font": {
              "color": "#000037"
             },
             "line": {
              "color": "#000039"
             }
            },
            "header": {
             "fill": {
              "color": "#000040"
             },
             "font": {
              "color": "#000036"
             },
             "line": {
              "color": "#000039"
             }
            },
            "type": "table"
           }
          ],
          "waterfall": [
           {
            "connector": {
             "line": {
              "color": "#000036",
              "width": 2
             }
            },
            "decreasing": {
             "marker": {
              "color": "#000033"
             }
            },
            "increasing": {
             "marker": {
              "color": "#000032"
             }
            },
            "totals": {
             "marker": {
              "color": "#000034"
             }
            },
            "type": "waterfall"
           }
          ]
         },
         "layout": {
          "coloraxis": {
           "colorscale": [
            [
             0,
             "#000011"
            ],
            [
             0.1111111111111111,
             "#000012"
            ],
            [
             0.2222222222222222,
             "#000013"
            ],
            [
             0.3333333333333333,
             "#000014"
            ],
            [
             0.4444444444444444,
             "#000015"
            ],
            [
             0.5555555555555556,
             "#000016"
            ],
            [
             0.6666666666666666,
             "#000017"
            ],
            [
             0.7777777777777778,
             "#000018"
            ],
            [
             0.8888888888888888,
             "#000019"
            ],
            [
             1,
             "#000020"
            ]
           ]
          },
          "colorscale": {
           "diverging": [
            [
             0,
             "#000021"
            ],
            [
             0.1,
             "#000022"
            ],
            [
             0.2,
             "#000023"
            ],
            [
             0.3,
             "#000024"
            ],
            [
             0.4,
             "#000025"
            ],
            [
             0.5,
             "#000026"
            ],
            [
             0.6,
             "#000027"
            ],
            [
             0.7,
             "#000028"
            ],
            [
             0.8,
             "#000029"
            ],
            [
             0.9,
             "#000030"
            ],
            [
             1,
             "#000031"
            ]
           ],
           "sequential": [
            [
             0,
             "#000011"
            ],
            [
             0.1111111111111111,
             "#000012"
            ],
            [
             0.2222222222222222,
             "#000013"
            ],
            [
             0.3333333333333333,
             "#000014"
            ],
            [
             0.4444444444444444,
             "#000015"
            ],
            [
             0.5555555555555556,
             "#000016"
            ],
            [
             0.6666666666666666,
             "#000017"
            ],
            [
             0.7777777777777778,
             "#000018"
            ],
            [
             0.8888888888888888,
             "#000019"
            ],
            [
             1,
             "#000020"
            ]
           ],
           "sequentialminus": [
            [
             0,
             "#000011"
            ],
            [
             0.1111111111111111,
             "#000012"
            ],
            [
             0.2222222222222222,
             "#000013"
            ],
            [
             0.3333333333333333,
             "#000014"
            ],
            [
             0.4444444444444444,
             "#000015"
            ],
            [
             0.5555555555555556,
             "#000016"
            ],
            [
             0.6666666666666666,
             "#000017"
            ],
            [
             0.7777777777777778,
             "#000018"
            ],
            [
             0.8888888888888888,
             "#000019"
            ],
            [
             1,
             "#000020"
            ]
           ]
          },
          "colorway": [
           "#000001",
           "#000002",
           "#000003",
           "#000004",
           "#000005",
           "#000006",
           "#000007",
           "#000008",
           "#000009",
           "#000010"
          ]
         }
        },
        "title": {
         "text": "Time Series Plot for Product A100"
        },
        "xaxis": {
         "anchor": "y",
         "autorange": true,
         "domain": [
          0,
          1
         ],
         "range": [
          "2023-05-12",
          "2023-07-25"
         ],
         "title": {
          "text": "Date"
         },
         "type": "date"
        },
        "yaxis": {
         "anchor": "x",
         "autorange": true,
         "domain": [
          0,
          1
         ],
         "range": [
          -21.666666666666668,
          591.6666666666666
         ],
         "title": {
          "text": "Amount of Products Requested"
         },
         "type": "linear"
        }
       }
      },
      "image/png": "[encoded data removed]",
      "text/html": [
       "<div>                            <div id=\"b870f598-633c-4eb0-b068-42c995bd5460\" class=\"plotly-graph-div\" style=\"height:525px; width:100%;\"></div>            <script type=\"text/javascript\">                require([\"plotly\"], function(Plotly) {                    window.PLOTLYENV=window.PLOTLYENV || {};                                    if (document.getElementById(\"b870f598-633c-4eb0-b068-42c995bd5460\")) {                    Plotly.newPlot(                        \"b870f598-633c-4eb0-b068-42c995bd5460\",                        [{\"hovertemplate\":\"Customer Name=Amazon AWS\\u003cbr\\u003eDate=%{x}\\u003cbr\\u003eAmount of Products Requested=%{y}\\u003cextra\\u003e\\u003c\\u002fextra\\u003e\",\"legendgroup\":\"Amazon AWS\",\"line\":{\"color\":\"#000001\",\"dash\":\"solid\"},\"marker\":{\"symbol\":\"circle\"},\"mode\":\"lines\",\"name\":\"Amazon AWS\",\"orientation\":\"v\",\"showlegend\":true,\"x\":[\"2023-05-15T00:00:00\",\"2023-05-17T00:00:00\",\"2023-05-21T00:00:00\",\"2023-05-26T00:00:00\",\"2023-06-03T00:00:00\",\"2023-06-04T00:00:00\",\"2023-06-06T00:00:00\",\"2023-06-11T00:00:00\",\"2023-06-17T00:00:00\",\"2023-06-18T00:00:00\",\"2023-06-21T00:00:00\",\"2023-06-25T00:00:00\",\"2023-07-04T00:00:00\",\"2023-07-09T00:00:00\",\"2023-07-10T00:00:00\",\"2023-07-11T00:00:00\",\"2023-07-14T00:00:00\",\"2023-07-15T00:00:00\",\"2023-07-16T00:00:00\",\"2023-07-23T00:00:00\"],\"xaxis\":\"x\",\"y\":[71,195,36,80,304,128,168,138,129,230,208,121,140,115,116,24,184,111,133,227],\"yaxis\":\"y\",\"type\":\"scatter\"},{\"hovertemplate\":\"Customer Name=Apple Inc.\\u003cbr\\u003eDate=%{x}\\u003cbr\\u003eAmount of Products Requested=%{y}\\u003cextra\\u003e\\u003c\\u002fextra\\u003e\",\"legendgroup\":\"Apple Inc.\",\"line\":{\"color\":\"#000002\",\"dash\":\"solid\"},\"marker\":{\"symbol\":\"circle\"},\"mode\":\"lines\",\"name\":\"Apple Inc.\",\"orientation\":\"v\",\"showlegend\":true,\"x\":[\"2023-05-19T00:00:00\",\"2023-05-20T00:00:00\",\"2023-05-21T00:00:00\",\"2023-05-24T00:00:00\",\"2023-05-25T00:00:00\",\"2023-05-29T00:00:00\",\"2023-06-06T00:00:00\",\"2023-06-09T00:00:00\",\"2023-06-10T00:00:00\",\"2023-06-13T00:00:00\",\"2023-06-24T00:00:00\",\"2023-07-01T00:00:00\",\"2023-07-02T00:00:00\",\"2023-07-03T00:00:00\",\"2023-07-05T00:00:00\",\"2023-07-09T00:00:00\",\"2023-07-14T00:00:00\",\"2023-07-16T00:00:00\",\"2023-07-21T00:00:00\",\"2023-07-22T00:00:00\",\"2023-07-25T00:00:00\"],\"xaxis\":\"x\",\"y\":[135,30,218,255,174,234,193,74,137,219,28,154,11,92,282,14,118,228,59,209,147],\"yaxis\":\"y\",\"type\":\"scatter\"},{\"hovertemplate\":\"Customer Name=AsusTek Computer\\u003cbr\\u003eDate=%{x}\\u003cbr\\u003eAmount of Products Requested=%{y}\\u003cextra\\u003e\\u003c\\u002fextra\\u003e\",\"legendgroup\":\"AsusTek Computer\",\"line\":{\"color\":\"#000003\",\"dash\":\"solid\"},\"marker\":{\"symbol\":\"circle\"},\"mode\":\"lines\",\"name\":\"AsusTek Computer\",\"orientation\":\"v\",\"showlegend\":true,\"x\":[\"2023-05-13T00:00:00\",\"2023-05-16T00:00:00\",\"2023-05-22T00:00:00\",\"2023-05-24T00:00:00\",\"2023-05-26T00:00:00\",\"2023-05-27T00:00:00\",\"2023-06-03T00:00:00\",\"2023-06-05T00:00:00\",\"2023-06-11T00:00:00\",\"2023-06-14T00:00:00\",\"2023-06-15T00:00:00\",\"2023-06-16T00:00:00\",\"2023-07-12T00:00:00\",\"2023-07-15T00:00:00\",\"2023-07-19T00:00:00\",\"2023-07-21T00:00:00\"],\"xaxis\":\"x\",\"y\":[160,256,184,288,9,50,171,122,256,192,75,120,50,215,279,500],\"yaxis\":\"y\",\"type\":\"scatter\"},{\"hovertemplate\":\"Customer Name=Dell Technologies\\u003cbr\\u003eDate=%{x}\\u003cbr\\u003eAmount of Products Requested=%{y}\\u003cextra\\u003e\\u003c\\u002fextra\\u003e\",\"legendgroup\":\"Dell Technologies\",\"line\":{\"color\":\"#000004\",\"dash\":\"solid\"},\"marker\":{\"symbol\":\"circle\"},\"mode\":\"lines\",\"name\":\"Dell Technologies\",\"orientation\":\"v\",\"showlegend\":true,\"x\":[\"2023-05-13T00:00:00\",\"2023-05-18T00:00:00\",\"2023-05-24T00:00:00\",\"2023-05-25T00:00:00\",\"2023-05-31T00:00:00\",\"2023-06-06T00:00:00\",\"2023-06-11T00:00:00\",\"2023-06-12T00:00:00\",\"2023-06-15T00:00:00\",\"2023-06-16T00:00:00\",\"2023-06-18T00:00:00\",\"2023-06-19T00:00:00\",\"2023-06-22T00:00:00\",\"2023-06-25T00:00:00\",\"2023-06-28T00:00:00\",\"2023-06-29T00:00:00\",\"2023-07-02T00:00:00\",\"2023-07-04T00:00:00\",\"2023-07-06T00:00:00\",\"2023-07-09T00:00:00\",\"2023-07-10T00:00:00\",\"2023-07-13T00:00:00\",\"2023-07-19T00:00:00\",\"2023-07-20T00:00:00\",\"2023-07-22T00:00:00\",\"2023-07-24T00:00:00\"],\"xaxis\":\"x\",\"y\":[203,142,270,260,283,197,261,180,104,260,291,33,513,40,18,288,245,115,152,79,103,210,325,283,247,252],\"yaxis\":\"y\",\"type\":\"scatter\"},{\"hovertemplate\":\"Customer Name=Google Cloud\\u003cbr\\u003eDate=%{x}\\u003cbr\\u003eAmount of Products Requested=%{y}\\u003cextra\\u003e\\u003c\\u002fextra\\u003e\",\"legendgroup\":\"Google Cloud\",\"line\":{\"color\":\"#000005\",\"dash\":\"solid\"},\"marker\":{\"symbol\":\"circle\"},\"mode\":\"lines\",\"name\":\"Google Cloud\",\"orientation\":\"v\",\"showlegend\":true,\"x\":[\"2023-05-21T00:00:00\",\"2023-06-03T00:00:00\",\"2023-06-05T00:00:00\",\"2023-06-09T00:00:00\",\"2023-06-10T00:00:00\",\"2023-06-18T00:00:00\",\"2023-06-28T00:00:00\",\"2023-07-03T00:00:00\",\"2023-07-04T00:00:00\",\"2023-07-15T00:00:00\",\"2023-07-24T00:00:00\"],\"xaxis\":\"x\",\"y\":[130,67,559,190,192,180,91,120,261,186,194],\"yaxis\":\"y\",\"type\":\"scatter\"},{\"hovertemplate\":\"Customer Name=HP Inc.\\u003cbr\\u003eDate=%{x}\\u003cbr\\u003eAmount of Products Requested=%{y}\\u003cextra\\u003e\\u003c\\u002fextra\\u003e\",\"legendgroup\":\"HP Inc.\",\"line\":{\"color\":\"#000006\",\"dash\":\"solid\"},\"marker\":{\"symbol\":\"circle\"},\"mode\":\"lines\",\"name\":\"HP Inc.\",\"orientation\":\"v\",\"showlegend\":true,\"x\":[\"2023-05-12T00:00:00\",\"2023-05-21T00:00:00\",\"2023-05-22T00:00:00\",\"2023-05-27T00:00:00\",\"2023-06-01T00:00:00\",\"2023-06-03T00:00:00\",\"2023-06-07T00:00:00\",\"2023-06-08T00:00:00\",\"2023-06-09T00:00:00\",\"2023-06-10T00:00:00\",\"2023-06-13T00:00:00\",\"2023-06-15T00:00:00\",\"2023-06-16T00:00:00\",\"2023-06-19T00:00:00\",\"2023-06-21T00:00:00\",\"2023-06-29T00:00:00\",\"2023-06-30T00:00:00\",\"2023-07-04T00:00:00\",\"2023-07-19T00:00:00\",\"2023-07-21T00:00:00\"],\"xaxis\":\"x\",\"y\":[80,216,343,13,13,147,243,94,84,34,52,143,110,58,261,47,122,60,43,379],\"yaxis\":\"y\",\"type\":\"scatter\"},{\"hovertemplate\":\"Customer Name=Lenovo Group\\u003cbr\\u003eDate=%{x}\\u003cbr\\u003eAmount of Products Requested=%{y}\\u003cextra\\u003e\\u003c\\u002fextra\\u003e\",\"legendgroup\":\"Lenovo Group\",\"line\":{\"color\":\"#000007\",\"dash\":\"solid\"},\"marker\":{\"symbol\":\"circle\"},\"mode\":\"lines\",\"name\":\"Lenovo Group\",\"orientation\":\"v\",\"showlegend\":true,\"x\":[\"2023-05-12T00:00:00\",\"2023-05-28T00:00:00\",\"2023-06-01T00:00:00\",\"2023-06-04T00:00:00\",\"2023-06-09T00:00:00\",\"2023-06-18T00:00:00\",\"2023-06-20T00:00:00\",\"2023-06-21T00:00:00\",\"2023-06-22T00:00:00\",\"2023-06-23T00:00:00\",\"2023-06-26T00:00:00\",\"2023-07-05T00:00:00\",\"2023-07-11T00:00:00\",\"2023-07-13T00:00:00\",\"2023-07-20T00:00:00\",\"2023-07-24T00:00:00\"],\"xaxis\":\"x\",\"y\":[146,73,162,108,206,44,269,100,242,269,262,31,62,231,274,163],\"yaxis\":\"y\",\"type\":\"scatter\"},{\"hovertemplate\":\"Customer Name=MSI\\u003cbr\\u003eDate=%{x}\\u003cbr\\u003eAmount of Products Requested=%{y}\\u003cextra\\u003e\\u003c\\u002fextra\\u003e\",\"legendgroup\":\"MSI\",\"line\":{\"color\":\"#000008\",\"dash\":\"solid\"},\"marker\":{\"symbol\":\"circle\"},\"mode\":\"lines\",\"name\":\"MSI\",\"orientation\":\"v\",\"showlegend\":true,\"x\":[\"2023-05-16T00:00:00\",\"2023-05-27T00:00:00\",\"2023-05-28T00:00:00\",\"2023-05-29T00:00:00\",\"2023-06-03T00:00:00\",\"2023-06-06T00:00:00\",\"2023-06-07T00:00:00\",\"2023-06-10T00:00:00\",\"2023-06-14T00:00:00\",\"2023-07-01T00:00:00\",\"2023-07-04T00:00:00\",\"2023-07-15T00:00:00\",\"2023-07-18T00:00:00\",\"2023-07-22T00:00:00\",\"2023-07-23T00:00:00\"],\"xaxis\":\"x\",\"y\":[73,451,195,129,438,158,166,561,63,40,192,151,34,406,249],\"yaxis\":\"y\",\"type\":\"scatter\"},{\"hovertemplate\":\"Customer Name=Microsoft Azure\\u003cbr\\u003eDate=%{x}\\u003cbr\\u003eAmount of Products Requested=%{y}\\u003cextra\\u003e\\u003c\\u002fextra\\u003e\",\"legendgroup\":\"Microsoft Azure\",\"line\":{\"color\":\"#000009\",\"dash\":\"solid\"},\"marker\":{\"symbol\":\"circle\"},\"mode\":\"lines\",\"name\":\"Microsoft Azure\",\"orientation\":\"v\",\"showlegend\":true,\"x\":[\"2023-05-16T00:00:00\",\"2023-05-30T00:00:00\",\"2023-05-31T00:00:00\",\"2023-06-10T00:00:00\",\"2023-06-13T00:00:00\",\"2023-06-19T00:00:00\",\"2023-06-20T00:00:00\",\"2023-06-23T00:00:00\",\"2023-07-04T00:00:00\",\"2023-07-12T00:00:00\",\"2023-07-15T00:00:00\",\"2023-07-17T00:00:00\",\"2023-07-22T00:00:00\"],\"xaxis\":\"x\",\"y\":[209,197,165,177,26,243,221,148,81,114,254,259,278],\"yaxis\":\"y\",\"type\":\"scatter\"},{\"hovertemplate\":\"Customer Name=Samsung Electronics\\u003cbr\\u003eDate=%{x}\\u003cbr\\u003eAmount of Products Requested=%{y}\\u003cextra\\u003e\\u003c\\u002fextra\\u003e\",\"legendgroup\":\"Samsung Electronics\",\"line\":{\"color\":\"#000010\",\"dash\":\"solid\"},\"marker\":{\"symbol\":\"circle\"},\"mode\":\"lines\",\"name\":\"Samsung Electronics\",\"orientation\":\"v\",\"showlegend\":true,\"x\":[\"2023-05-14T00:00:00\",\"2023-05-18T00:00:00\",\"2023-05-22T00:00:00\",\"2023-05-27T00:00:00\",\"2023-06-03T00:00:00\",\"2023-06-04T00:00:00\",\"2023-06-12T00:00:00\",\"2023-06-16T00:00:00\",\"2023-06-17T00:00:00\",\"2023-06-18T00:00:00\",\"2023-06-19T00:00:00\",\"2023-06-26T00:00:00\",\"2023-06-28T00:00:00\",\"2023-07-01T00:00:00\",\"2023-07-02T00:00:00\",\"2023-07-04T00:00:00\",\"2023-07-07T00:00:00\",\"2023-07-11T00:00:00\",\"2023-07-18T00:00:00\",\"2023-07-21T00:00:00\",\"2023-07-24T00:00:00\"],\"xaxis\":\"x\",\"y\":[149,150,107,224,246,267,250,66,284,67,222,288,46,26,204,513,286,276,281,272,231],\"yaxis\":\"y\",\"type\":\"scatter\"}],                        {\"template\":{\"data\":{\"candlestick\":[{\"decreasing\":{\"line\":{\"color\":\"#000033\"}},\"increasing\":{\"line\":{\"color\":\"#000032\"}},\"type\":\"candlestick\"}],\"contourcarpet\":[{\"colorscale\":[[0.0,\"#000011\"],[0.1111111111111111,\"#000012\"],[0.2222222222222222,\"#000013\"],[0.3333333333333333,\"#000014\"],[0.4444444444444444,\"#000015\"],[0.5555555555555556,\"#000016\"],[0.6666666666666666,\"#000017\"],[0.7777777777777778,\"#000018\"],[0.8888888888888888,\"#000019\"],[1.0,\"#000020\"]],\"type\":\"contourcarpet\"}],\"contour\":[{\"colorscale\":[[0.0,\"#000011\"],[0.1111111111111111,\"#000012\"],[0.2222222222222222,\"#000013\"],[0.3333333333333333,\"#000014\"],[0.4444444444444444,\"#000015\"],[0.5555555555555556,\"#000016\"],[0.6666666666666666,\"#000017\"],[0.7777777777777778,\"#000018\"],[0.8888888888888888,\"#000019\"],[1.0,\"#000020\"]],\"type\":\"contour\"}],\"heatmap\":[{\"colorscale\":[[0.0,\"#000011\"],[0.1111111111111111,\"#000012\"],[0.2222222222222222,\"#000013\"],[0.3333333333333333,\"#000014\"],[0.4444444444444444,\"#000015\"],[0.5555555555555556,\"#000016\"],[0.6666666666666666,\"#000017\"],[0.7777777777777778,\"#000018\"],[0.8888888888888888,\"#000019\"],[1.0,\"#000020\"]],\"type\":\"heatmap\"}],\"histogram2d\":[{\"colorscale\":[[0.0,\"#000011\"],[0.1111111111111111,\"#000012\"],[0.2222222222222222,\"#000013\"],[0.3333333333333333,\"#000014\"],[0.4444444444444444,\"#000015\"],[0.5555555555555556,\"#000016\"],[0.6666666666666666,\"#000017\"],[0.7777777777777778,\"#000018\"],[0.8888888888888888,\"#000019\"],[1.0,\"#000020\"]],\"type\":\"histogram2d\"}],\"icicle\":[{\"textfont\":{\"color\":\"white\"},\"type\":\"icicle\"}],\"sankey\":[{\"textfont\":{\"color\":\"#000036\"},\"type\":\"sankey\"}],\"scatter\":[{\"marker\":{\"line\":{\"width\":0}},\"type\":\"scatter\"}],\"table\":[{\"cells\":{\"fill\":{\"color\":\"#000038\"},\"font\":{\"color\":\"#000037\"},\"line\":{\"color\":\"#000039\"}},\"header\":{\"fill\":{\"color\":\"#000040\"},\"font\":{\"color\":\"#000036\"},\"line\":{\"color\":\"#000039\"}},\"type\":\"table\"}],\"waterfall\":[{\"connector\":{\"line\":{\"color\":\"#000036\",\"width\":2}},\"decreasing\":{\"marker\":{\"color\":\"#000033\"}},\"increasing\":{\"marker\":{\"color\":\"#000032\"}},\"totals\":{\"marker\":{\"color\":\"#000034\"}},\"type\":\"waterfall\"}]},\"layout\":{\"coloraxis\":{\"colorscale\":[[0.0,\"#000011\"],[0.1111111111111111,\"#000012\"],[0.2222222222222222,\"#000013\"],[0.3333333333333333,\"#000014\"],[0.4444444444444444,\"#000015\"],[0.5555555555555556,\"#000016\"],[0.6666666666666666,\"#000017\"],[0.7777777777777778,\"#000018\"],[0.8888888888888888,\"#000019\"],[1.0,\"#000020\"]]},\"colorscale\":{\"diverging\":[[0.0,\"#000021\"],[0.1,\"#000022\"],[0.2,\"#000023\"],[0.3,\"#000024\"],[0.4,\"#000025\"],[0.5,\"#000026\"],[0.6,\"#000027\"],[0.7,\"#000028\"],[0.8,\"#000029\"],[0.9,\"#000030\"],[1.0,\"#000031\"]],\"sequential\":[[0.0,\"#000011\"],[0.1111111111111111,\"#000012\"],[0.2222222222222222,\"#000013\"],[0.3333333333333333,\"#000014\"],[0.4444444444444444,\"#000015\"],[0.5555555555555556,\"#000016\"],[0.6666666666666666,\"#000017\"],[0.7777777777777778,\"#000018\"],[0.8888888888888888,\"#000019\"],[1.0,\"#000020\"]],\"sequentialminus\":[[0.0,\"#000011\"],[0.1111111111111111,\"#000012\"],[0.2222222222222222,\"#000013\"],[0.3333333333333333,\"#000014\"],[0.4444444444444444,\"#000015\"],[0.5555555555555556,\"#000016\"],[0.6666666666666666,\"#000017\"],[0.7777777777777778,\"#000018\"],[0.8888888888888888,\"#000019\"],[1.0,\"#000020\"]]},\"colorway\":[\"#000001\",\"#000002\",\"#000003\",\"#000004\",\"#000005\",\"#000006\",\"#000007\",\"#000008\",\"#000009\",\"#000010\"]}},\"xaxis\":{\"anchor\":\"y\",\"domain\":[0.0,1.0],\"title\":{\"text\":\"Date\"}},\"yaxis\":{\"anchor\":\"x\",\"domain\":[0.0,1.0],\"title\":{\"text\":\"Amount of Products Requested\"}},\"legend\":{\"title\":{\"text\":\"Customer Name\"},\"tracegroupgap\":0},\"title\":{\"text\":\"Time Series Plot for Product A100\"}},                        {\"responsive\": true}                    ).then(function(){\n",
       "                            \n",
       "var gd = document.getElementById('b870f598-633c-4eb0-b068-42c995bd5460');\n",
       "var x = new MutationObserver(function (mutations, observer) {{\n",
       "        var display = window.getComputedStyle(gd).display;\n",
       "        if (!display || display === 'none') {{\n",
       "            console.log([gd, 'removed!']);\n",
       "            Plotly.purge(gd);\n",
       "            observer.disconnect();\n",
       "        }}\n",
       "}});\n",
       "\n",
       "// Listen for the removal of the full notebook cells\n",
       "var notebookContainer = gd.closest('#notebook-container');\n",
       "if (notebookContainer) {{\n",
       "    x.observe(notebookContainer, {childList: true});\n",
       "}}\n",
       "\n",
       "// Listen for the clearing of the current output cell\n",
       "var outputEl = gd.closest('.output');\n",
       "if (outputEl) {{\n",
       "    x.observe(outputEl, {childList: true});\n",
       "}}\n",
       "\n",
       "                        })                };                });            </script>        </div>"
      ]
     },
     "metadata": {},
     "output_type": "display_data"
    }
   ],
   "source": [
    "fig.show()"
   ]
  },
  {
   "cell_type": "code",
   "execution_count": null,
   "id": "ba6ad6a1-8d86-45d5-a512-b6d162e538dc",
   "metadata": {},
   "outputs": [],
   "source": [
    "import plotly.graph_objs as go\n",
    "import plotly.io as pio\n",
    "\n",
    "# Create a sample plot\n",
    "fig = go.Figure(data=[go.Bar(y=[2, 3, 1])])\n",
    "fig2 = go.Figure(data=[go.Bar(y=[4, 3, 1])])\n",
    "\n",
    "# Save the plot as an HTML file\n",
    "# pio.write_html(fig, 'plot.html')\n",
    "# pio.write_html(fig2, 'plot.html')\n",
    "\n",
    "# Save the plot as an image file (e.g., PNG)\n",
    "# fig.write_image('plot.png')"
   ]
  },
  {
   "cell_type": "code",
   "execution_count": null,
   "id": "b299c04e-6e75-4c80-b453-fc556a1d22ad",
   "metadata": {},
   "outputs": [],
   "source": []
  },
  {
   "cell_type": "code",
   "execution_count": null,
   "id": "f02c873c-c3b4-4b3c-826f-3e26a24b5160",
   "metadata": {},
   "outputs": [],
   "source": []
  },
  {
   "cell_type": "code",
   "execution_count": 8,
   "id": "2ad25cd4-6439-4947-b2d0-90790e0219e8",
   "metadata": {},
   "outputs": [],
   "source": [
    "# !pip install --upgrade plotly"
   ]
  },
  {
   "cell_type": "code",
   "execution_count": 3,
   "id": "bd0ac91f-2264-4368-8afd-cbecbbcf79f2",
   "metadata": {},
   "outputs": [],
   "source": [
    "import plotly.graph_objs as go\n",
    "import plotly.io as pio\n",
    "\n",
    "# Create two sample plots\n",
    "fig1 = go.Figure(data=[go.Bar(y=[2, 3, 1])])\n",
    "fig2 = go.Figure(data=[go.Scatter(y=[2, 3, 1])])\n",
    "\n",
    "# Convert the figures to HTML strings\n",
    "html_fig1 = pio.to_html(fig1, include_plotlyjs='cdn')\n",
    "html_fig2 = pio.to_html(fig2, include_plotlyjs=False)\n",
    "\n",
    "# Combine the HTML strings into a single HTML\n",
    "combined_html = f\"\"\"\n",
    "<html>\n",
    "<head>\n",
    "  <script src=\"https://cdn.plot.ly/plotly-latest.min.js\"></script>\n",
    "</head>\n",
    "<body>\n",
    "  {html_fig1}\n",
    "  {html_fig2}\n",
    "</body>\n",
    "</html>\n",
    "\"\"\"\n",
    "\n",
    "# Save the combined HTML to a file\n",
    "with open('combined_plot.html', 'w') as f:\n",
    "    f.write(combined_html)"
   ]
  },
  {
   "cell_type": "code",
   "execution_count": 4,
   "id": "04f53179-78b4-47d2-b36e-57617eebb0b2",
   "metadata": {},
   "outputs": [
    {
     "data": {
      "text/plain": [
       "'<html>\\n<head><meta charset=\"utf-8\" /></head>\\n<body>\\n    <div>                        <script type=\"text/javascript\">window.PlotlyConfig = {MathJaxConfig: \\'local\\'};</script>\\n        <script charset=\"utf-8\" src=\"https://cdn.plot.ly/plotly-2.32.0.min.js\"></script>                <div id=\"00a4927d-ba25-44f1-8ad3-6c11816ecb01\" class=\"plotly-graph-div\" style=\"height:100%; width:100%;\"></div>            <script type=\"text/javascript\">                                    window.PLOTLYENV=window.PLOTLYENV || {};                                    if (document.getElementById(\"00a4927d-ba25-44f1-8ad3-6c11816ecb01\")) {                    Plotly.newPlot(                        \"00a4927d-ba25-44f1-8ad3-6c11816ecb01\",                        [{\"y\":[2,3,1],\"type\":\"bar\"}],                        {\"template\":{\"data\":{\"histogram2dcontour\":[{\"type\":\"histogram2dcontour\",\"colorbar\":{\"outlinewidth\":0,\"ticks\":\"\"},\"colorscale\":[[0.0,\"#0d0887\"],[0.1111111111111111,\"#46039f\"],[0.2222222222222222,\"#7201a8\"],[0.3333333333333333,\"#9c179e\"],[0.4444444444444444,\"#bd3786\"],[0.5555555555555556,\"#d8576b\"],[0.6666666666666666,\"#ed7953\"],[0.7777777777777778,\"#fb9f3a\"],[0.8888888888888888,\"#fdca26\"],[1.0,\"#f0f921\"]]}],\"choropleth\":[{\"type\":\"choropleth\",\"colorbar\":{\"outlinewidth\":0,\"ticks\":\"\"}}],\"histogram2d\":[{\"type\":\"histogram2d\",\"colorbar\":{\"outlinewidth\":0,\"ticks\":\"\"},\"colorscale\":[[0.0,\"#0d0887\"],[0.1111111111111111,\"#46039f\"],[0.2222222222222222,\"#7201a8\"],[0.3333333333333333,\"#9c179e\"],[0.4444444444444444,\"#bd3786\"],[0.5555555555555556,\"#d8576b\"],[0.6666666666666666,\"#ed7953\"],[0.7777777777777778,\"#fb9f3a\"],[0.8888888888888888,\"#fdca26\"],[1.0,\"#f0f921\"]]}],\"heatmap\":[{\"type\":\"heatmap\",\"colorbar\":{\"outlinewidth\":0,\"ticks\":\"\"},\"colorscale\":[[0.0,\"#0d0887\"],[0.1111111111111111,\"#46039f\"],[0.2222222222222222,\"#7201a8\"],[0.3333333333333333,\"#9c179e\"],[0.4444444444444444,\"#bd3786\"],[0.5555555555555556,\"#d8576b\"],[0.6666666666666666,\"#ed7953\"],[0.7777777777777778,\"#fb9f3a\"],[0.8888888888888888,\"#fdca26\"],[1.0,\"#f0f921\"]]}],\"heatmapgl\":[{\"type\":\"heatmapgl\",\"colorbar\":{\"outlinewidth\":0,\"ticks\":\"\"},\"colorscale\":[[0.0,\"#0d0887\"],[0.1111111111111111,\"#46039f\"],[0.2222222222222222,\"#7201a8\"],[0.3333333333333333,\"#9c179e\"],[0.4444444444444444,\"#bd3786\"],[0.5555555555555556,\"#d8576b\"],[0.6666666666666666,\"#ed7953\"],[0.7777777777777778,\"#fb9f3a\"],[0.8888888888888888,\"#fdca26\"],[1.0,\"#f0f921\"]]}],\"contourcarpet\":[{\"type\":\"contourcarpet\",\"colorbar\":{\"outlinewidth\":0,\"ticks\":\"\"}}],\"contour\":[{\"type\":\"contour\",\"colorbar\":{\"outlinewidth\":0,\"ticks\":\"\"},\"colorscale\":[[0.0,\"#0d0887\"],[0.1111111111111111,\"#46039f\"],[0.2222222222222222,\"#7201a8\"],[0.3333333333333333,\"#9c179e\"],[0.4444444444444444,\"#bd3786\"],[0.5555555555555556,\"#d8576b\"],[0.6666666666666666,\"#ed7953\"],[0.7777777777777778,\"#fb9f3a\"],[0.8888888888888888,\"#fdca26\"],[1.0,\"#f0f921\"]]}],\"surface\":[{\"type\":\"surface\",\"colorbar\":{\"outlinewidth\":0,\"ticks\":\"\"},\"colorscale\":[[0.0,\"#0d0887\"],[0.1111111111111111,\"#46039f\"],[0.2222222222222222,\"#7201a8\"],[0.3333333333333333,\"#9c179e\"],[0.4444444444444444,\"#bd3786\"],[0.5555555555555556,\"#d8576b\"],[0.6666666666666666,\"#ed7953\"],[0.7777777777777778,\"#fb9f3a\"],[0.8888888888888888,\"#fdca26\"],[1.0,\"#f0f921\"]]}],\"mesh3d\":[{\"type\":\"mesh3d\",\"colorbar\":{\"outlinewidth\":0,\"ticks\":\"\"}}],\"scatter\":[{\"fillpattern\":{\"fillmode\":\"overlay\",\"size\":10,\"solidity\":0.2},\"type\":\"scatter\"}],\"parcoords\":[{\"type\":\"parcoords\",\"line\":{\"colorbar\":{\"outlinewidth\":0,\"ticks\":\"\"}}}],\"scatterpolargl\":[{\"type\":\"scatterpolargl\",\"marker\":{\"colorbar\":{\"outlinewidth\":0,\"ticks\":\"\"}}}],\"bar\":[{\"error_x\":{\"color\":\"#2a3f5f\"},\"error_y\":{\"color\":\"#2a3f5f\"},\"marker\":{\"line\":{\"color\":\"#E5ECF6\",\"width\":0.5},\"pattern\":{\"fillmode\":\"overlay\",\"size\":10,\"solidity\":0.2}},\"type\":\"bar\"}],\"scattergeo\":[{\"type\":\"scattergeo\",\"marker\":{\"colorbar\":{\"outlinewidth\":0,\"ticks\":\"\"}}}],\"scatterpolar\":[{\"type\":\"scatterpolar\",\"marker\":{\"colorbar\":{\"outlinewidth\":0,\"ticks\":\"\"}}}],\"histogram\":[{\"marker\":{\"pattern\":{\"fillmode\":\"overlay\",\"size\":10,\"solidity\":0.2}},\"type\":\"histogram\"}],\"scattergl\":[{\"type\":\"scattergl\",\"marker\":{\"colorbar\":{\"outlinewidth\":0,\"ticks\":\"\"}}}],\"scatter3d\":[{\"type\":\"scatter3d\",\"line\":{\"colorbar\":{\"outlinewidth\":0,\"ticks\":\"\"}},\"marker\":{\"colorbar\":{\"outlinewidth\":0,\"ticks\":\"\"}}}],\"scattermapbox\":[{\"type\":\"scattermapbox\",\"marker\":{\"colorbar\":{\"outlinewidth\":0,\"ticks\":\"\"}}}],\"scatterternary\":[{\"type\":\"scatterternary\",\"marker\":{\"colorbar\":{\"outlinewidth\":0,\"ticks\":\"\"}}}],\"scattercarpet\":[{\"type\":\"scattercarpet\",\"marker\":{\"colorbar\":{\"outlinewidth\":0,\"ticks\":\"\"}}}],\"carpet\":[{\"aaxis\":{\"endlinecolor\":\"#2a3f5f\",\"gridcolor\":\"white\",\"linecolor\":\"white\",\"minorgridcolor\":\"white\",\"startlinecolor\":\"#2a3f5f\"},\"baxis\":{\"endlinecolor\":\"#2a3f5f\",\"gridcolor\":\"white\",\"linecolor\":\"white\",\"minorgridcolor\":\"white\",\"startlinecolor\":\"#2a3f5f\"},\"type\":\"carpet\"}],\"table\":[{\"cells\":{\"fill\":{\"color\":\"#EBF0F8\"},\"line\":{\"color\":\"white\"}},\"header\":{\"fill\":{\"color\":\"#C8D4E3\"},\"line\":{\"color\":\"white\"}},\"type\":\"table\"}],\"barpolar\":[{\"marker\":{\"line\":{\"color\":\"#E5ECF6\",\"width\":0.5},\"pattern\":{\"fillmode\":\"overlay\",\"size\":10,\"solidity\":0.2}},\"type\":\"barpolar\"}],\"pie\":[{\"automargin\":true,\"type\":\"pie\"}]},\"layout\":{\"autotypenumbers\":\"strict\",\"colorway\":[\"#636efa\",\"#EF553B\",\"#00cc96\",\"#ab63fa\",\"#FFA15A\",\"#19d3f3\",\"#FF6692\",\"#B6E880\",\"#FF97FF\",\"#FECB52\"],\"font\":{\"color\":\"#2a3f5f\"},\"hovermode\":\"closest\",\"hoverlabel\":{\"align\":\"left\"},\"paper_bgcolor\":\"white\",\"plot_bgcolor\":\"#E5ECF6\",\"polar\":{\"bgcolor\":\"#E5ECF6\",\"angularaxis\":{\"gridcolor\":\"white\",\"linecolor\":\"white\",\"ticks\":\"\"},\"radialaxis\":{\"gridcolor\":\"white\",\"linecolor\":\"white\",\"ticks\":\"\"}},\"ternary\":{\"bgcolor\":\"#E5ECF6\",\"aaxis\":{\"gridcolor\":\"white\",\"linecolor\":\"white\",\"ticks\":\"\"},\"baxis\":{\"gridcolor\":\"white\",\"linecolor\":\"white\",\"ticks\":\"\"},\"caxis\":{\"gridcolor\":\"white\",\"linecolor\":\"white\",\"ticks\":\"\"}},\"coloraxis\":{\"colorbar\":{\"outlinewidth\":0,\"ticks\":\"\"}},\"colorscale\":{\"sequential\":[[0.0,\"#0d0887\"],[0.1111111111111111,\"#46039f\"],[0.2222222222222222,\"#7201a8\"],[0.3333333333333333,\"#9c179e\"],[0.4444444444444444,\"#bd3786\"],[0.5555555555555556,\"#d8576b\"],[0.6666666666666666,\"#ed7953\"],[0.7777777777777778,\"#fb9f3a\"],[0.8888888888888888,\"#fdca26\"],[1.0,\"#f0f921\"]],\"sequentialminus\":[[0.0,\"#0d0887\"],[0.1111111111111111,\"#46039f\"],[0.2222222222222222,\"#7201a8\"],[0.3333333333333333,\"#9c179e\"],[0.4444444444444444,\"#bd3786\"],[0.5555555555555556,\"#d8576b\"],[0.6666666666666666,\"#ed7953\"],[0.7777777777777778,\"#fb9f3a\"],[0.8888888888888888,\"#fdca26\"],[1.0,\"#f0f921\"]],\"diverging\":[[0,\"#8e0152\"],[0.1,\"#c51b7d\"],[0.2,\"#de77ae\"],[0.3,\"#f1b6da\"],[0.4,\"#fde0ef\"],[0.5,\"#f7f7f7\"],[0.6,\"#e6f5d0\"],[0.7,\"#b8e186\"],[0.8,\"#7fbc41\"],[0.9,\"#4d9221\"],[1,\"#276419\"]]},\"xaxis\":{\"gridcolor\":\"white\",\"linecolor\":\"white\",\"ticks\":\"\",\"title\":{\"standoff\":15},\"zerolinecolor\":\"white\",\"automargin\":true,\"zerolinewidth\":2},\"yaxis\":{\"gridcolor\":\"white\",\"linecolor\":\"white\",\"ticks\":\"\",\"title\":{\"standoff\":15},\"zerolinecolor\":\"white\",\"automargin\":true,\"zerolinewidth\":2},\"scene\":{\"xaxis\":{\"backgroundcolor\":\"#E5ECF6\",\"gridcolor\":\"white\",\"linecolor\":\"white\",\"showbackground\":true,\"ticks\":\"\",\"zerolinecolor\":\"white\",\"gridwidth\":2},\"yaxis\":{\"backgroundcolor\":\"#E5ECF6\",\"gridcolor\":\"white\",\"linecolor\":\"white\",\"showbackground\":true,\"ticks\":\"\",\"zerolinecolor\":\"white\",\"gridwidth\":2},\"zaxis\":{\"backgroundcolor\":\"#E5ECF6\",\"gridcolor\":\"white\",\"linecolor\":\"white\",\"showbackground\":true,\"ticks\":\"\",\"zerolinecolor\":\"white\",\"gridwidth\":2}},\"shapedefaults\":{\"line\":{\"color\":\"#2a3f5f\"}},\"annotationdefaults\":{\"arrowcolor\":\"#2a3f5f\",\"arrowhead\":0,\"arrowwidth\":1},\"geo\":{\"bgcolor\":\"white\",\"landcolor\":\"#E5ECF6\",\"subunitcolor\":\"white\",\"showland\":true,\"showlakes\":true,\"lakecolor\":\"white\"},\"title\":{\"x\":0.05},\"mapbox\":{\"style\":\"light\"}}}},                        {\"responsive\": true}                    )                };                            </script>        </div>\\n</body>\\n</html>'"
      ]
     },
     "execution_count": 4,
     "metadata": {},
     "output_type": "execute_result"
    }
   ],
   "source": [
    "html_fig1"
   ]
  },
  {
   "cell_type": "code",
   "execution_count": 5,
   "id": "03725aee-e7ae-4569-a91e-2ef66084f66a",
   "metadata": {},
   "outputs": [],
   "source": [
    "import plotly.graph_objs as go\n",
    "import plotly.io as pio\n",
    "\n",
    "# Initialize an empty list to store HTML strings of figures\n",
    "html_figures = []\n",
    "\n",
    "# Create 10 different figures\n",
    "for i in range(10):\n",
    "    if i % 2 == 0:\n",
    "        fig = go.Figure(data=[go.Bar(y=[i, i + 1, i + 2])])\n",
    "    else:\n",
    "        fig = go.Figure(data=[go.Scatter(y=[i, i + 1, i + 2])])\n",
    "    \n",
    "    # Convert the figure to an HTML string\n",
    "    # Include Plotly.js only for the first figure\n",
    "    if i == 0:\n",
    "        html_fig = pio.to_html(fig, include_plotlyjs='cdn')\n",
    "    else:\n",
    "        html_fig = pio.to_html(fig, include_plotlyjs=False)\n",
    "    \n",
    "    # Append the HTML string to the list\n",
    "    html_figures.append(html_fig)\n",
    "\n",
    "# Combine all HTML strings into a single HTML document\n",
    "combined_html = \"\"\"\n",
    "<html>\n",
    "<head>\n",
    "  <script src=\"https://cdn.plot.ly/plotly-latest.min.js\"></script>\n",
    "</head>\n",
    "<body>\n",
    "\"\"\"\n",
    "for html_fig in html_figures:\n",
    "    combined_html += html_fig\n",
    "\n",
    "combined_html += \"\"\"\n",
    "</body>\n",
    "</html>\n",
    "\"\"\"\n",
    "\n",
    "# Save the combined HTML to a file\n",
    "with open('combined_plots.html', 'w') as f:\n",
    "    f.write(combined_html)\n"
   ]
  },
  {
   "cell_type": "code",
   "execution_count": null,
   "id": "1e5ec5ea-daf3-489b-a654-5bb1ea7a7c20",
   "metadata": {},
   "outputs": [],
   "source": [
    "import plotly.graph_objs as go\n",
    "import plotly.io as pio\n",
    "\n",
    "# Create and save the HTML representation of each figure\n",
    "for i in range(10):\n",
    "    if i % 2 == 0:\n",
    "        fig = go.Figure(data=[go.Bar(y=[i, i + 1, i + 2])])\n",
    "    else:\n",
    "        fig = go.Figure(data=[go.Scatter(y=[i, i + 1, i + 2])])\n",
    "    \n",
    "    # Save the figure to an HTML file\n",
    "    filename = f'figure_{i}.html'\n",
    "    pio.write_html(fig, file=filename, include_plotlyjs=(i == 0))\n",
    "\n",
    "# Load the HTML files and combine them into a single HTML document\n",
    "html_figures = []\n",
    "for i in range(10):\n",
    "    filename = f'figure_{i}.html'\n",
    "    with open(filename, 'r') as f:\n",
    "        html_fig = f.read()\n",
    "        # Remove the head and body tags for subsequent figures\n",
    "        if i != 0:\n",
    "            html_fig = html_fig.split('<body>')[1]\n",
    "            html_fig = html_fig.split('</body>')[0]\n",
    "        html_figures.append(html_fig)\n",
    "\n",
    "# Combine all HTML strings into a single HTML document\n",
    "combined_html = \"\"\"\n",
    "<html>\n",
    "<head>\n",
    "  <script src=\"https://cdn.plot.ly/plotly-latest.min.js\"></script>\n",
    "</head>\n",
    "<body>\n",
    "\"\"\"\n",
    "for html_fig in html_figures:\n",
    "    combined_html += html_fig\n",
    "\n",
    "combined_html += \"\"\"\n",
    "</body>\n",
    "</html>\n",
    "\"\"\"\n",
    "\n",
    "# Save the combined HTML to a file\n",
    "with open('combined_plots.html', 'w') as f:\n",
    "    f.write(combined_html)\n"
   ]
  },
  {
   "cell_type": "code",
   "execution_count": 6,
   "id": "d8bb2732-b52b-4234-ac0f-786ab863e5f0",
   "metadata": {},
   "outputs": [
    {
     "name": "stdout",
     "output_type": "stream",
     "text": [
      "Requirement already satisfied: kaleido in c:\\users\\smaddali\\appdata\\local\\anaconda3\\envs\\visualizationagent\\lib\\site-packages (0.2.1)\n"
     ]
    }
   ],
   "source": [
    "# !pip install kaleido"
   ]
  },
  {
   "cell_type": "code",
   "execution_count": null,
   "id": "2bba19b1-636c-4095-a4a9-8dc66e100c0a",
   "metadata": {},
   "outputs": [],
   "source": []
  }
 ],
 "metadata": {
  "kernelspec": {
   "display_name": "Python 3 (ipykernel)",
   "language": "python",
   "name": "python3"
  },
  "language_info": {
   "codemirror_mode": {
    "name": "ipython",
    "version": 3
   },
   "file_extension": ".py",
   "mimetype": "text/x-python",
   "name": "python",
   "nbconvert_exporter": "python",
   "pygments_lexer": "ipython3",
   "version": "3.12.2"
  }
 },
 "nbformat": 4,
 "nbformat_minor": 5
}
