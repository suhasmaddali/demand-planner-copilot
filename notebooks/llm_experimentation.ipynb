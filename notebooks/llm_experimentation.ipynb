{
 "cells": [
  {
   "cell_type": "code",
   "execution_count": 13,
   "id": "a548902f-83dd-4879-86aa-b6f25e9c383f",
   "metadata": {},
   "outputs": [
    {
     "name": "stdout",
     "output_type": "stream",
     "text": [
      "Operations Research (OR) is an interdisciplinary field that combines mathematics, statistics, computer science, and engineering to analyze and optimize complex decision-making problems. It involves the use of analytical methods, mathematical models, and algorithms to identify and solve problems in various fields, such as:\n",
      "\n",
      "1. Logistics and Supply Chain Management\n",
      "2. Finance and Economics\n",
      "3. Healthcare and Biomedical Systems\n",
      "4. Energy and Environment\n",
      "5. Manufacturing and Production Systems\n",
      "6. Transportation and Traffic Management\n",
      "7. Telecommunications and Network Systems\n",
      "\n",
      "The goal of Operations Research is to provide a scientific approach to decision-making, using data-driven insights to improve the performance of systems, processes, and organizations. OR professionals use a range of techniques, including:\n",
      "\n",
      "1. Linear and Nonlinear Programming\n",
      "2. Dynamic Programming\n",
      "3. Stochastic Processes and Queuing Theory\n",
      "4. Game Theory\n",
      "5. Simulation and Modeling\n",
      "6. Data Analytics and Machine Learning\n",
      "7. Optimization Algorithms\n",
      "\n",
      "Some common applications of Operations Research include:\n",
      "\n",
      "1. Scheduling and Timetabling\n",
      "2. Resource Allocation and Capacity Planning\n",
      "3. Inventory Management and Control\n",
      "4. Network Optimization and Routing\n",
      "5. Supply Chain Optimization\n",
      "6. Risk Analysis and Management\n",
      "7. Performance Measurement and Evaluation\n",
      "\n",
      "Operations Research has many practical applications in various industries, such as:\n",
      "\n",
      "1. Airlines: optimizing flight schedules and crew assignments\n",
      "2. Healthcare: optimizing hospital resource allocation and patient flow\n",
      "3. Finance: optimizing portfolio management and risk analysis\n",
      "4. Retail: optimizing inventory management and supply chain logistics\n",
      "5. Manufacturing: optimizing production planning and scheduling\n",
      "\n",
      "The field of Operations Research is closely related to other disciplines, such as:\n",
      "\n",
      "1. Management Science\n",
      "2. Industrial Engineering\n",
      "3. Computer Science\n",
      "4. Statistics and Data Science\n",
      "5. Economics and Finance\n",
      "\n",
      "If you're interested in learning more about Operations Research, I can recommend some resources, such as:\n",
      "\n",
      "1. INFORMS (Institute for Operations Research and the Management Sciences)\n",
      "2. OR-MS Today (a magazine covering OR and management science)\n",
      "3. Operations Research journals (e.g., Operations Research, Management Science)\n",
      "4. Online courses and tutorials (e.g., Coursera, edX, MIT OpenCourseWare)\n",
      "\n",
      "Let me know if you have any specific questions or topics you'd like to discuss further!"
     ]
    }
   ],
   "source": [
    "from openai import OpenAI\n",
    "\n",
    "client = OpenAI(\n",
    "  base_url = \"https://integrate.api.nvidia.com/v1\",\n",
    "  api_key = \"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\"\n",
    ")\n",
    "\n",
    "completion = client.chat.completions.create(\n",
    "  model=\"meta/llama3-70b-instruct\",\n",
    "  messages=[\n",
    "      {\"role\": \"system\", \"content\": \"How are you doing?\"},\n",
    "      {\"role\":\"user\",\"content\":\"How to build machine learning models\"},\n",
    "      {\"role\": \"assistant\", \"content\": \"ML models are used everything\"},\n",
    "      {\"role\": \"user\", \"content\": \"What is operations research?\"}\n",
    "  ],\n",
    "  temperature=0.5,\n",
    "  top_p=1,\n",
    "  max_tokens=1024,\n",
    "  stream=True\n",
    ")\n",
    "\n",
    "for chunk in completion:\n",
    "  if chunk.choices[0].delta.content is not None:\n",
    "    print(chunk.choices[0].delta.content, end=\"\")\n"
   ]
  },
  {
   "cell_type": "code",
   "execution_count": 11,
   "id": "c60ea9c8-7a7a-46fb-bd0f-12eeeed14718",
   "metadata": {},
   "outputs": [
    {
     "name": "stdout",
     "output_type": "stream",
     "text": [
      "ChatCompletionChunk(id='chatcmpl-5cf91541-9333-43f8-a7f1-d6151214ee74', choices=[Choice(delta=ChoiceDelta(content='', function_call=None, role='assistant', tool_calls=None), finish_reason=None, index=0, logprobs=None)], created=1715391633, model='meta/llama3-70b-instruct', object='chat.completion.chunk', system_fingerprint=None, usage=None)\n",
      "ChatCompletionChunk(id='chatcmpl-5cf91541-9333-43f8-a7f1-d6151214ee74', choices=[Choice(delta=ChoiceDelta(content='Here', function_call=None, role='assistant', tool_calls=None), finish_reason=None, index=0, logprobs=ChoiceLogprobs(content=[ChatCompletionTokenLogprob(token=None, bytes=None, logprob=0.0, top_logprobs=None)]))], created=1715391633, model='meta/llama3-70b-instruct', object='chat.completion.chunk', system_fingerprint=None, usage=None)\n",
      "ChatCompletionChunk(id='chatcmpl-5cf91541-9333-43f8-a7f1-d6151214ee74', choices=[Choice(delta=ChoiceDelta(content=\"'s one:\\n\\nWhy couldn't the bicycle stand up by itself?\\n\\n(Wait for it...)\\n\\nBecause it was two-tired!\\n\\nHope that made you laugh!\", function_call=None, role='assistant', tool_calls=None), finish_reason=None, index=0, logprobs=ChoiceLogprobs(content=[ChatCompletionTokenLogprob(token=None, bytes=None, logprob=0.0, top_logprobs=None)]))], created=1715391633, model='meta/llama3-70b-instruct', object='chat.completion.chunk', system_fingerprint=None, usage=None)\n",
      "ChatCompletionChunk(id='chatcmpl-5cf91541-9333-43f8-a7f1-d6151214ee74', choices=[Choice(delta=ChoiceDelta(content='', function_call=None, role='assistant', tool_calls=None), finish_reason='stop', index=0, logprobs=None)], created=1715391633, model='meta/llama3-70b-instruct', object='chat.completion.chunk', system_fingerprint=None, usage=None)\n"
     ]
    }
   ],
   "source": [
    "client = OpenAI(\n",
    "  base_url = \"https://integrate.api.nvidia.com/v1\",\n",
    "  api_key = \"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\"\n",
    ")\n",
    "\n",
    "completion = client.chat.completions.create(\n",
    "  model=\"meta/llama3-70b-instruct\",\n",
    "  messages=[{\"role\":\"user\",\"content\":\"Tell me a joke\"}],\n",
    "  temperature=0.5,\n",
    "  top_p=1,\n",
    "  max_tokens=1024,\n",
    "  stream=True\n",
    ")\n",
    "\n",
    "for chunk in completion:\n",
    "    print(chunk)"
   ]
  },
  {
   "cell_type": "code",
   "execution_count": 10,
   "id": "ceca6de9-af63-463e-a0a1-2f30e5db49e9",
   "metadata": {},
   "outputs": [],
   "source": [
    "chunk.choices"
   ]
  },
  {
   "cell_type": "code",
   "execution_count": null,
   "id": "c6eee6ca-4119-4d2f-8356-fb6961bfcab2",
   "metadata": {},
   "outputs": [],
   "source": []
  }
 ],
 "metadata": {
  "kernelspec": {
   "display_name": "Python 3 (ipykernel)",
   "language": "python",
   "name": "python3"
  },
  "language_info": {
   "codemirror_mode": {
    "name": "ipython",
    "version": 3
   },
   "file_extension": ".py",
   "mimetype": "text/x-python",
   "name": "python",
   "nbconvert_exporter": "python",
   "pygments_lexer": "ipython3",
   "version": "3.12.2"
  }
 },
 "nbformat": 4,
 "nbformat_minor": 5
}
