{
 "cells": [
  {
   "cell_type": "code",
   "execution_count": 26,
   "id": "c9a43f01-6aae-4445-b79b-ac48b0e0605e",
   "metadata": {},
   "outputs": [],
   "source": [
    "# !pip install openpyxl"
   ]
  },
  {
   "cell_type": "code",
   "execution_count": 1,
   "id": "7c55ba04-cd67-4725-9539-2cc459a2abaf",
   "metadata": {},
   "outputs": [],
   "source": [
    "import pandas as pd"
   ]
  },
  {
   "cell_type": "code",
   "execution_count": 7,
   "id": "65550909-1bfb-4853-9c59-f8941ba304e2",
   "metadata": {},
   "outputs": [],
   "source": [
    "sheets = df_sheets.sheet_names\n",
    "df_sheets_dict = {}\n",
    "for sheet in sheets:\n",
    "    \n",
    "    df = pd.read_excel(df_sheets, sheet_name=sheet)\n",
    "    if sheet == \"Customer Demand\":\n",
    "        rows_to_remove = range(2000, 10000)\n",
    "        df = df.drop(rows_to_remove)\n",
    "    df_sheets_dict[sheet] = df    "
   ]
  },
  {
   "cell_type": "code",
   "execution_count": 9,
   "id": "1a0b1ac7-0a42-4459-9a38-df2861342af8",
   "metadata": {},
   "outputs": [],
   "source": [
    "with pd.ExcelWriter(\"../data/final_data.xlsx\", engine=\"xlsxwriter\") as writer:\n",
    "    for sheet_name, df in df_sheets_dict.items():\n",
    "        df.to_excel(writer, sheet_name=sheet_name, index=False)"
   ]
  }
 ],
 "metadata": {
  "kernelspec": {
   "display_name": "Python 3 (ipykernel)",
   "language": "python",
   "name": "python3"
  },
  "language_info": {
   "codemirror_mode": {
    "name": "ipython",
    "version": 3
   },
   "file_extension": ".py",
   "mimetype": "text/x-python",
   "name": "python",
   "nbconvert_exporter": "python",
   "pygments_lexer": "ipython3",
   "version": "3.12.2"
  }
 },
 "nbformat": 4,
 "nbformat_minor": 5
}
